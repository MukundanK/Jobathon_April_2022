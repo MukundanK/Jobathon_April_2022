{
 "cells": [
  {
   "cell_type": "markdown",
   "id": "e8bb746f-1bf1-4af3-bc85-0b72ed2e21ef",
   "metadata": {},
   "source": [
    "# Explore data and add missing timestamp"
   ]
  },
  {
   "cell_type": "markdown",
   "id": "856f89b0-df42-4ab5-bf0b-fa4d82954c56",
   "metadata": {
    "jp-MarkdownHeadingCollapsed": true,
    "tags": []
   },
   "source": [
    "The train and test data have missing timestamps. In this notebook, I add the missing timestamps in both train and test. In order to create lag and moving avergae features, I also added mock demand data for test, which is 1.02 times the demand for last year"
   ]
  },
  {
   "cell_type": "code",
   "execution_count": 1,
   "id": "3892b6c2-1f2a-41c5-88d3-e79c684a3447",
   "metadata": {},
   "outputs": [],
   "source": [
    "%config Completer.use_jedi = False"
   ]
  },
  {
   "cell_type": "code",
   "execution_count": 2,
   "id": "01ebe21e-f357-4ead-9da4-5a26e3f816bf",
   "metadata": {},
   "outputs": [],
   "source": [
    "# imports\n",
    "\n",
    "import pandas as pd\n",
    "import numpy as np\n",
    "import matplotlib.pyplot as plt\n",
    "import holidays\n",
    "from xgboost import XGBRegressor\n",
    "from sklearn.metrics import mean_squared_error\n",
    "import seaborn as sns\n",
    "import datetime"
   ]
  },
  {
   "cell_type": "code",
   "execution_count": 3,
   "id": "de542ddf-234e-439e-bf07-9bf7d049ee9a",
   "metadata": {},
   "outputs": [],
   "source": [
    "# read in data\n",
    "\n",
    "train = pd.read_csv('../data/input/train_E1GspfA.csv', parse_dates=['date'])\n",
    "test = pd.read_csv('../data/input/test_6QvDdzb.csv', parse_dates=['date'])\n",
    "sample = pd.read_csv('../data/input/sample_4E0BhPN.csv', parse_dates=['date'])"
   ]
  },
  {
   "cell_type": "markdown",
   "id": "b9f27258-92e7-46f5-9c7e-5ea862c2dcbd",
   "metadata": {},
   "source": [
    "# Train"
   ]
  },
  {
   "cell_type": "code",
   "execution_count": 4,
   "id": "4e1a920f-b05f-4bb8-a71d-acd9fd8c86e8",
   "metadata": {},
   "outputs": [
    {
     "data": {
      "text/plain": [
       "(18247, 3)"
      ]
     },
     "execution_count": 4,
     "metadata": {},
     "output_type": "execute_result"
    }
   ],
   "source": [
    "train.shape"
   ]
  },
  {
   "cell_type": "code",
   "execution_count": 5,
   "id": "5e60900c-d89f-4366-b95b-e1e10c179bb9",
   "metadata": {},
   "outputs": [],
   "source": [
    "# set datetime as index\n",
    "\n",
    "train.set_index(pd.to_datetime(train.date) + pd.to_timedelta(train.hour, unit='h'), inplace=True)"
   ]
  },
  {
   "cell_type": "code",
   "execution_count": 6,
   "id": "25501e06-add8-4b4f-9181-6858c8b8e192",
   "metadata": {},
   "outputs": [
    {
     "data": {
      "text/plain": [
       "DatetimeIndex(['2018-08-18 09:00:00', '2018-08-18 10:00:00',\n",
       "               '2018-08-18 13:00:00', '2018-08-18 14:00:00',\n",
       "               '2018-08-18 15:00:00', '2018-08-18 16:00:00',\n",
       "               '2018-08-18 17:00:00', '2018-08-18 18:00:00',\n",
       "               '2018-08-18 19:00:00', '2018-08-18 20:00:00',\n",
       "               ...\n",
       "               '2021-02-28 14:00:00', '2021-02-28 15:00:00',\n",
       "               '2021-02-28 16:00:00', '2021-02-28 17:00:00',\n",
       "               '2021-02-28 18:00:00', '2021-02-28 19:00:00',\n",
       "               '2021-02-28 20:00:00', '2021-02-28 21:00:00',\n",
       "               '2021-02-28 22:00:00', '2021-02-28 23:00:00'],\n",
       "              dtype='datetime64[ns]', length=18247, freq=None)"
      ]
     },
     "execution_count": 6,
     "metadata": {},
     "output_type": "execute_result"
    }
   ],
   "source": [
    "train.index"
   ]
  },
  {
   "cell_type": "code",
   "execution_count": 7,
   "id": "524a530b-f21b-4f04-b9a1-15377a18f50e",
   "metadata": {},
   "outputs": [
    {
     "data": {
      "text/html": [
       "<div>\n",
       "<style scoped>\n",
       "    .dataframe tbody tr th:only-of-type {\n",
       "        vertical-align: middle;\n",
       "    }\n",
       "\n",
       "    .dataframe tbody tr th {\n",
       "        vertical-align: top;\n",
       "    }\n",
       "\n",
       "    .dataframe thead th {\n",
       "        text-align: right;\n",
       "    }\n",
       "</style>\n",
       "<table border=\"1\" class=\"dataframe\">\n",
       "  <thead>\n",
       "    <tr style=\"text-align: right;\">\n",
       "      <th></th>\n",
       "      <th>date</th>\n",
       "      <th>hour</th>\n",
       "      <th>demand</th>\n",
       "    </tr>\n",
       "  </thead>\n",
       "  <tbody>\n",
       "    <tr>\n",
       "      <th>2018-08-18 09:00:00</th>\n",
       "      <td>2018-08-18</td>\n",
       "      <td>9</td>\n",
       "      <td>91</td>\n",
       "    </tr>\n",
       "    <tr>\n",
       "      <th>2018-08-18 10:00:00</th>\n",
       "      <td>2018-08-18</td>\n",
       "      <td>10</td>\n",
       "      <td>21</td>\n",
       "    </tr>\n",
       "    <tr>\n",
       "      <th>2018-08-18 13:00:00</th>\n",
       "      <td>2018-08-18</td>\n",
       "      <td>13</td>\n",
       "      <td>23</td>\n",
       "    </tr>\n",
       "    <tr>\n",
       "      <th>2018-08-18 14:00:00</th>\n",
       "      <td>2018-08-18</td>\n",
       "      <td>14</td>\n",
       "      <td>104</td>\n",
       "    </tr>\n",
       "    <tr>\n",
       "      <th>2018-08-18 15:00:00</th>\n",
       "      <td>2018-08-18</td>\n",
       "      <td>15</td>\n",
       "      <td>81</td>\n",
       "    </tr>\n",
       "  </tbody>\n",
       "</table>\n",
       "</div>"
      ],
      "text/plain": [
       "                          date  hour  demand\n",
       "2018-08-18 09:00:00 2018-08-18     9      91\n",
       "2018-08-18 10:00:00 2018-08-18    10      21\n",
       "2018-08-18 13:00:00 2018-08-18    13      23\n",
       "2018-08-18 14:00:00 2018-08-18    14     104\n",
       "2018-08-18 15:00:00 2018-08-18    15      81"
      ]
     },
     "execution_count": 7,
     "metadata": {},
     "output_type": "execute_result"
    }
   ],
   "source": [
    "train.head()"
   ]
  },
  {
   "cell_type": "code",
   "execution_count": 8,
   "id": "0f1f44e8-38e7-4e34-9360-51fa7b5c464a",
   "metadata": {},
   "outputs": [
    {
     "data": {
      "text/plain": [
       "date      0\n",
       "hour      0\n",
       "demand    0\n",
       "dtype: int64"
      ]
     },
     "execution_count": 8,
     "metadata": {},
     "output_type": "execute_result"
    }
   ],
   "source": [
    "train.isna().sum()"
   ]
  },
  {
   "cell_type": "code",
   "execution_count": 9,
   "id": "ad4d2897-7991-4eed-80c4-2cb3ad985f63",
   "metadata": {},
   "outputs": [
    {
     "data": {
      "text/plain": [
       "date      datetime64[ns]\n",
       "hour               int64\n",
       "demand             int64\n",
       "dtype: object"
      ]
     },
     "execution_count": 9,
     "metadata": {},
     "output_type": "execute_result"
    }
   ],
   "source": [
    "train.dtypes"
   ]
  },
  {
   "cell_type": "code",
   "execution_count": 10,
   "id": "69f2155c-4015-4bb3-91e3-a573ceb4ff7e",
   "metadata": {},
   "outputs": [
    {
     "data": {
      "text/plain": [
       "Timestamp('2018-08-18 09:00:00')"
      ]
     },
     "execution_count": 10,
     "metadata": {},
     "output_type": "execute_result"
    }
   ],
   "source": [
    "train.index.min()"
   ]
  },
  {
   "cell_type": "code",
   "execution_count": 11,
   "id": "e748cf05-5fea-4e5c-a460-fb794504b873",
   "metadata": {},
   "outputs": [
    {
     "data": {
      "text/plain": [
       "Timestamp('2021-02-28 23:00:00')"
      ]
     },
     "execution_count": 11,
     "metadata": {},
     "output_type": "execute_result"
    }
   ],
   "source": [
    "train.index.max()"
   ]
  },
  {
   "cell_type": "code",
   "execution_count": 12,
   "id": "5da036e2-7ec5-4363-a33c-30b72d1ca588",
   "metadata": {},
   "outputs": [
    {
     "data": {
      "text/plain": [
       "DatetimeIndex(['2018-08-18 00:00:00', '2018-08-18 01:00:00',\n",
       "               '2018-08-18 02:00:00', '2018-08-18 03:00:00',\n",
       "               '2018-08-18 04:00:00', '2018-08-18 05:00:00',\n",
       "               '2018-08-18 06:00:00', '2018-08-18 07:00:00',\n",
       "               '2018-08-18 08:00:00', '2018-08-18 11:00:00',\n",
       "               ...\n",
       "               '2021-02-22 05:00:00', '2021-02-23 01:00:00',\n",
       "               '2021-02-23 03:00:00', '2021-02-23 05:00:00',\n",
       "               '2021-02-24 02:00:00', '2021-02-24 03:00:00',\n",
       "               '2021-02-24 05:00:00', '2021-02-25 01:00:00',\n",
       "               '2021-02-25 03:00:00', '2021-02-25 05:00:00'],\n",
       "              dtype='datetime64[ns]', length=3977, freq=None)"
      ]
     },
     "execution_count": 12,
     "metadata": {},
     "output_type": "execute_result"
    }
   ],
   "source": [
    "# check if timestamp is available for all dates in the date range\n",
    "\n",
    "pd.date_range(start= train.index.min().date(), end=train.index.max().date(), freq='1H').difference(train.index)"
   ]
  },
  {
   "cell_type": "code",
   "execution_count": 123,
   "id": "5cbc1b91-c89a-4d93-900a-52d1827fb9f4",
   "metadata": {},
   "outputs": [],
   "source": [
    "# full date range\n",
    "\n",
    "dates_range = pd.date_range(start=train.index.min(), end=train.index.max(), freq='1H')\n",
    "df_dates_range = pd.DataFrame(data = dates_range, columns= ['datetime']).set_index(['datetime'])"
   ]
  },
  {
   "cell_type": "code",
   "execution_count": 124,
   "id": "03f4784a-988b-4d94-b84e-2cd4d4e9ec83",
   "metadata": {},
   "outputs": [],
   "source": [
    "# fill in missing datestamps\n",
    "\n",
    "train_missing_timestamp_filled = df_dates_range.join(train)"
   ]
  },
  {
   "cell_type": "code",
   "execution_count": 125,
   "id": "0205ceca-afc9-462c-93c4-76e901fe245b",
   "metadata": {},
   "outputs": [
    {
     "data": {
      "text/html": [
       "<div>\n",
       "<style scoped>\n",
       "    .dataframe tbody tr th:only-of-type {\n",
       "        vertical-align: middle;\n",
       "    }\n",
       "\n",
       "    .dataframe tbody tr th {\n",
       "        vertical-align: top;\n",
       "    }\n",
       "\n",
       "    .dataframe thead th {\n",
       "        text-align: right;\n",
       "    }\n",
       "</style>\n",
       "<table border=\"1\" class=\"dataframe\">\n",
       "  <thead>\n",
       "    <tr style=\"text-align: right;\">\n",
       "      <th></th>\n",
       "      <th>date</th>\n",
       "      <th>hour</th>\n",
       "      <th>demand</th>\n",
       "    </tr>\n",
       "    <tr>\n",
       "      <th>datetime</th>\n",
       "      <th></th>\n",
       "      <th></th>\n",
       "      <th></th>\n",
       "    </tr>\n",
       "  </thead>\n",
       "  <tbody>\n",
       "    <tr>\n",
       "      <th>2018-08-18 09:00:00</th>\n",
       "      <td>2018-08-18</td>\n",
       "      <td>9.0</td>\n",
       "      <td>91.0</td>\n",
       "    </tr>\n",
       "    <tr>\n",
       "      <th>2018-08-18 10:00:00</th>\n",
       "      <td>2018-08-18</td>\n",
       "      <td>10.0</td>\n",
       "      <td>21.0</td>\n",
       "    </tr>\n",
       "    <tr>\n",
       "      <th>2018-08-18 11:00:00</th>\n",
       "      <td>NaT</td>\n",
       "      <td>NaN</td>\n",
       "      <td>NaN</td>\n",
       "    </tr>\n",
       "    <tr>\n",
       "      <th>2018-08-18 12:00:00</th>\n",
       "      <td>NaT</td>\n",
       "      <td>NaN</td>\n",
       "      <td>NaN</td>\n",
       "    </tr>\n",
       "    <tr>\n",
       "      <th>2018-08-18 13:00:00</th>\n",
       "      <td>2018-08-18</td>\n",
       "      <td>13.0</td>\n",
       "      <td>23.0</td>\n",
       "    </tr>\n",
       "    <tr>\n",
       "      <th>...</th>\n",
       "      <td>...</td>\n",
       "      <td>...</td>\n",
       "      <td>...</td>\n",
       "    </tr>\n",
       "    <tr>\n",
       "      <th>2021-02-28 19:00:00</th>\n",
       "      <td>2021-02-28</td>\n",
       "      <td>19.0</td>\n",
       "      <td>95.0</td>\n",
       "    </tr>\n",
       "    <tr>\n",
       "      <th>2021-02-28 20:00:00</th>\n",
       "      <td>2021-02-28</td>\n",
       "      <td>20.0</td>\n",
       "      <td>88.0</td>\n",
       "    </tr>\n",
       "    <tr>\n",
       "      <th>2021-02-28 21:00:00</th>\n",
       "      <td>2021-02-28</td>\n",
       "      <td>21.0</td>\n",
       "      <td>39.0</td>\n",
       "    </tr>\n",
       "    <tr>\n",
       "      <th>2021-02-28 22:00:00</th>\n",
       "      <td>2021-02-28</td>\n",
       "      <td>22.0</td>\n",
       "      <td>104.0</td>\n",
       "    </tr>\n",
       "    <tr>\n",
       "      <th>2021-02-28 23:00:00</th>\n",
       "      <td>2021-02-28</td>\n",
       "      <td>23.0</td>\n",
       "      <td>85.0</td>\n",
       "    </tr>\n",
       "  </tbody>\n",
       "</table>\n",
       "<p>22215 rows × 3 columns</p>\n",
       "</div>"
      ],
      "text/plain": [
       "                          date  hour  demand\n",
       "datetime                                    \n",
       "2018-08-18 09:00:00 2018-08-18   9.0    91.0\n",
       "2018-08-18 10:00:00 2018-08-18  10.0    21.0\n",
       "2018-08-18 11:00:00        NaT   NaN     NaN\n",
       "2018-08-18 12:00:00        NaT   NaN     NaN\n",
       "2018-08-18 13:00:00 2018-08-18  13.0    23.0\n",
       "...                        ...   ...     ...\n",
       "2021-02-28 19:00:00 2021-02-28  19.0    95.0\n",
       "2021-02-28 20:00:00 2021-02-28  20.0    88.0\n",
       "2021-02-28 21:00:00 2021-02-28  21.0    39.0\n",
       "2021-02-28 22:00:00 2021-02-28  22.0   104.0\n",
       "2021-02-28 23:00:00 2021-02-28  23.0    85.0\n",
       "\n",
       "[22215 rows x 3 columns]"
      ]
     },
     "execution_count": 125,
     "metadata": {},
     "output_type": "execute_result"
    }
   ],
   "source": [
    "train_missing_timestamp_filled"
   ]
  },
  {
   "cell_type": "code",
   "execution_count": 126,
   "id": "f9f1644f-6cfb-47bf-a8a7-74edbe6e0826",
   "metadata": {},
   "outputs": [],
   "source": [
    "# fill date\n",
    "\n",
    "train_missing_timestamp_filled['date'] = train_missing_timestamp_filled.index.date"
   ]
  },
  {
   "cell_type": "code",
   "execution_count": 127,
   "id": "a843602f-609d-4f30-87b7-e8e25fedd68d",
   "metadata": {},
   "outputs": [],
   "source": [
    "# fill hour \n",
    "\n",
    "train_missing_timestamp_filled['hour'] = train_missing_timestamp_filled.index.hour"
   ]
  },
  {
   "cell_type": "code",
   "execution_count": 18,
   "id": "bc77e3f1-f526-46ce-a496-2fa7336f8f99",
   "metadata": {},
   "outputs": [
    {
     "data": {
      "text/html": [
       "<div>\n",
       "<style scoped>\n",
       "    .dataframe tbody tr th:only-of-type {\n",
       "        vertical-align: middle;\n",
       "    }\n",
       "\n",
       "    .dataframe tbody tr th {\n",
       "        vertical-align: top;\n",
       "    }\n",
       "\n",
       "    .dataframe thead th {\n",
       "        text-align: right;\n",
       "    }\n",
       "</style>\n",
       "<table border=\"1\" class=\"dataframe\">\n",
       "  <thead>\n",
       "    <tr style=\"text-align: right;\">\n",
       "      <th></th>\n",
       "      <th>date</th>\n",
       "      <th>hour</th>\n",
       "      <th>demand</th>\n",
       "    </tr>\n",
       "    <tr>\n",
       "      <th>datetime</th>\n",
       "      <th></th>\n",
       "      <th></th>\n",
       "      <th></th>\n",
       "    </tr>\n",
       "  </thead>\n",
       "  <tbody>\n",
       "    <tr>\n",
       "      <th>2018-08-18 00:00:00</th>\n",
       "      <td>2018-08-18</td>\n",
       "      <td>0</td>\n",
       "      <td>NaN</td>\n",
       "    </tr>\n",
       "    <tr>\n",
       "      <th>2018-08-18 01:00:00</th>\n",
       "      <td>2018-08-18</td>\n",
       "      <td>1</td>\n",
       "      <td>NaN</td>\n",
       "    </tr>\n",
       "    <tr>\n",
       "      <th>2018-08-18 02:00:00</th>\n",
       "      <td>2018-08-18</td>\n",
       "      <td>2</td>\n",
       "      <td>NaN</td>\n",
       "    </tr>\n",
       "    <tr>\n",
       "      <th>2018-08-18 03:00:00</th>\n",
       "      <td>2018-08-18</td>\n",
       "      <td>3</td>\n",
       "      <td>NaN</td>\n",
       "    </tr>\n",
       "    <tr>\n",
       "      <th>2018-08-18 04:00:00</th>\n",
       "      <td>2018-08-18</td>\n",
       "      <td>4</td>\n",
       "      <td>NaN</td>\n",
       "    </tr>\n",
       "    <tr>\n",
       "      <th>...</th>\n",
       "      <td>...</td>\n",
       "      <td>...</td>\n",
       "      <td>...</td>\n",
       "    </tr>\n",
       "    <tr>\n",
       "      <th>2021-02-28 19:00:00</th>\n",
       "      <td>2021-02-28</td>\n",
       "      <td>19</td>\n",
       "      <td>95.0</td>\n",
       "    </tr>\n",
       "    <tr>\n",
       "      <th>2021-02-28 20:00:00</th>\n",
       "      <td>2021-02-28</td>\n",
       "      <td>20</td>\n",
       "      <td>88.0</td>\n",
       "    </tr>\n",
       "    <tr>\n",
       "      <th>2021-02-28 21:00:00</th>\n",
       "      <td>2021-02-28</td>\n",
       "      <td>21</td>\n",
       "      <td>39.0</td>\n",
       "    </tr>\n",
       "    <tr>\n",
       "      <th>2021-02-28 22:00:00</th>\n",
       "      <td>2021-02-28</td>\n",
       "      <td>22</td>\n",
       "      <td>104.0</td>\n",
       "    </tr>\n",
       "    <tr>\n",
       "      <th>2021-02-28 23:00:00</th>\n",
       "      <td>2021-02-28</td>\n",
       "      <td>23</td>\n",
       "      <td>85.0</td>\n",
       "    </tr>\n",
       "  </tbody>\n",
       "</table>\n",
       "<p>22224 rows × 3 columns</p>\n",
       "</div>"
      ],
      "text/plain": [
       "                           date  hour  demand\n",
       "datetime                                     \n",
       "2018-08-18 00:00:00  2018-08-18     0     NaN\n",
       "2018-08-18 01:00:00  2018-08-18     1     NaN\n",
       "2018-08-18 02:00:00  2018-08-18     2     NaN\n",
       "2018-08-18 03:00:00  2018-08-18     3     NaN\n",
       "2018-08-18 04:00:00  2018-08-18     4     NaN\n",
       "...                         ...   ...     ...\n",
       "2021-02-28 19:00:00  2021-02-28    19    95.0\n",
       "2021-02-28 20:00:00  2021-02-28    20    88.0\n",
       "2021-02-28 21:00:00  2021-02-28    21    39.0\n",
       "2021-02-28 22:00:00  2021-02-28    22   104.0\n",
       "2021-02-28 23:00:00  2021-02-28    23    85.0\n",
       "\n",
       "[22224 rows x 3 columns]"
      ]
     },
     "execution_count": 18,
     "metadata": {},
     "output_type": "execute_result"
    }
   ],
   "source": [
    "train_missing_timestamp_filled"
   ]
  },
  {
   "cell_type": "code",
   "execution_count": 128,
   "id": "884bfc66-560e-4d72-a493-59307eedb686",
   "metadata": {},
   "outputs": [
    {
     "data": {
      "text/plain": [
       "date         0\n",
       "hour         0\n",
       "demand    3968\n",
       "dtype: int64"
      ]
     },
     "execution_count": 128,
     "metadata": {},
     "output_type": "execute_result"
    }
   ],
   "source": [
    "train_missing_timestamp_filled.isna().sum()"
   ]
  },
  {
   "cell_type": "code",
   "execution_count": 129,
   "id": "d0c3c986-f223-4430-905f-197961b5ac21",
   "metadata": {},
   "outputs": [],
   "source": [
    "# For all dates with atleast one non-null value, fill other na with 0. \n",
    "# meaning, empty timestamps had no demand\n",
    "\n",
    "train_missing_timestamp_filled_na_zero = train_missing_timestamp_filled.groupby(['date']).filter(lambda grp: grp['demand'].notnull().values.any()).fillna(0)"
   ]
  },
  {
   "cell_type": "code",
   "execution_count": 130,
   "id": "7d6e6a16-cc0e-4ea6-bf4c-dc3a09aebcb0",
   "metadata": {},
   "outputs": [],
   "source": [
    "# merge with train_missing_timestamp_filled\n",
    "\n",
    "train_missing_timestamp_filled_1 = train_missing_timestamp_filled.\\\n",
    "merge(train_missing_timestamp_filled_na_zero[['demand']],left_index=True, right_index=True, how='left')\n",
    "\n",
    "# drop 'demand_x' and rename 'demand_y' as 'demand'\n",
    "\n",
    "train_missing_timestamp_filled_1 = train_missing_timestamp_filled_1.drop(columns = ['demand_x']).rename(columns = {'demand_y':'demand'})"
   ]
  },
  {
   "cell_type": "code",
   "execution_count": 131,
   "id": "1dc76801-9375-4a8b-9147-7c5eac6c9ab1",
   "metadata": {},
   "outputs": [
    {
     "data": {
      "text/plain": [
       "date        0\n",
       "hour        0\n",
       "demand    744\n",
       "dtype: int64"
      ]
     },
     "execution_count": 131,
     "metadata": {},
     "output_type": "execute_result"
    }
   ],
   "source": [
    "train_missing_timestamp_filled_1.isna().sum()"
   ]
  },
  {
   "cell_type": "code",
   "execution_count": 132,
   "id": "b0a17d8c-cf37-4a3d-938e-2aca986795b3",
   "metadata": {},
   "outputs": [],
   "source": [
    "# fill nov-dec 2020 with 2019 nov-dec demand * 1.03\n",
    "\n",
    "fill_missing_values =  train_missing_timestamp_filled_1.loc['2019-11-27':'2019-12-26'].fillna(0).demand.values * 1.03"
   ]
  },
  {
   "cell_type": "code",
   "execution_count": 133,
   "id": "f484eda4-1ae9-4638-8b7f-80ecbb71357e",
   "metadata": {},
   "outputs": [],
   "source": [
    "train_missing_timestamp_filled_1.loc['2020-11-27':'2020-12-26', 'demand'] = fill_missing_values"
   ]
  },
  {
   "cell_type": "code",
   "execution_count": 134,
   "id": "37833150-2123-4088-9afe-3e7c8f9faf32",
   "metadata": {},
   "outputs": [
    {
     "data": {
      "text/plain": [
       "date       0\n",
       "hour       0\n",
       "demand    24\n",
       "dtype: int64"
      ]
     },
     "execution_count": 134,
     "metadata": {},
     "output_type": "execute_result"
    }
   ],
   "source": [
    "train_missing_timestamp_filled_1.isnull().sum()"
   ]
  },
  {
   "cell_type": "code",
   "execution_count": 135,
   "id": "e82cbb68-95c3-434b-8fed-f8fd199df606",
   "metadata": {},
   "outputs": [],
   "source": [
    "# fill april 2019 with last one week average demand\n",
    "\n",
    "missing_april_2019 = train_missing_timestamp_filled_1.loc['2019-04-21':'2019-04-27'][['demand','hour']].groupby(['hour']).mean().values"
   ]
  },
  {
   "cell_type": "code",
   "execution_count": 136,
   "id": "f634e154-0161-4fe4-8b4e-3571e96f7e5c",
   "metadata": {},
   "outputs": [],
   "source": [
    "# fill in april 2019\n",
    "\n",
    "train_missing_timestamp_filled_1.loc['2019-04-28','demand'] = missing_april_2019"
   ]
  },
  {
   "cell_type": "code",
   "execution_count": 137,
   "id": "f71ad63a-875f-4a7c-9e60-d5a761d4e841",
   "metadata": {},
   "outputs": [
    {
     "data": {
      "text/plain": [
       "date      0\n",
       "hour      0\n",
       "demand    0\n",
       "dtype: int64"
      ]
     },
     "execution_count": 137,
     "metadata": {},
     "output_type": "execute_result"
    }
   ],
   "source": [
    "# check null\n",
    "\n",
    "train_missing_timestamp_filled_1.isnull().sum()"
   ]
  },
  {
   "cell_type": "markdown",
   "id": "3f37d9b2-2d78-412a-886f-7dd8c0bab5bc",
   "metadata": {},
   "source": [
    "# Complete train data"
   ]
  },
  {
   "cell_type": "code",
   "execution_count": 139,
   "id": "a91ff19e-13b7-437b-ae9f-57fde94ec022",
   "metadata": {},
   "outputs": [],
   "source": [
    "# save to csv\n",
    "\n",
    "# train_missing_timestamp_filled_1.to_csv('../data/input/train_with_missing_timestamps.csv', index=None)"
   ]
  },
  {
   "cell_type": "code",
   "execution_count": 140,
   "id": "c66e1b9e-f4eb-4101-b04b-74d0387e75c7",
   "metadata": {},
   "outputs": [
    {
     "data": {
      "image/png": "[encoded data removed]",
      "text/plain": [
       "<Figure size 360x360 with 1 Axes>"
      ]
     },
     "metadata": {
      "needs_background": "light"
     },
     "output_type": "display_data"
    }
   ],
   "source": [
    "# plot\n",
    "\n",
    "fig = plt.subplots(1,1, figsize = (5,5))\n",
    "plt.scatter(train_missing_timestamp_filled_1.index,train_missing_timestamp_filled_1.demand, s=1)\n",
    "plt.show()"
   ]
  },
  {
   "cell_type": "code",
   "execution_count": 39,
   "id": "19df3585-1a18-4df6-9a9c-b355e657dd0c",
   "metadata": {},
   "outputs": [],
   "source": [
    "# target\n",
    "\n",
    "y_train = train_missing_timestamp_filled_1['demand'].copy()"
   ]
  },
  {
   "cell_type": "code",
   "execution_count": 40,
   "id": "7f3f93a8-6e35-4e08-b6e6-7f4bb014344b",
   "metadata": {},
   "outputs": [],
   "source": [
    "# features\n",
    "\n",
    "X_train = train_missing_timestamp_filled_1.drop(columns = ['demand']).copy()"
   ]
  },
  {
   "cell_type": "markdown",
   "id": "881e001c-e4eb-49ef-b769-2d5863144ef4",
   "metadata": {
    "tags": []
   },
   "source": [
    "# Lag feature"
   ]
  },
  {
   "cell_type": "code",
   "execution_count": 41,
   "id": "8edbc73e-7ad4-4eb5-8c2d-530ab1d51856",
   "metadata": {},
   "outputs": [],
   "source": [
    "# create lag features\n",
    "\n",
    "def lag(df, lag_val=1):\n",
    "    \n",
    "    df[f'lag_{lag_val}'] = df['demand'].shift(lag_val)"
   ]
  },
  {
   "cell_type": "code",
   "execution_count": 43,
   "id": "d053881e-e0c4-4b0e-9a9d-c5d69b1a4f30",
   "metadata": {},
   "outputs": [],
   "source": [
    "# lag features\n",
    "# create lag features from lag_1 to lag_7\n",
    "\n",
    "df = train_missing_timestamp_filled_1.copy()\n",
    "\n",
    "for i in range(1,8):\n",
    "    lag(df, i)\n",
    "\n",
    "\n",
    "df.fillna(0,inplace=True)\n"
   ]
  },
  {
   "cell_type": "code",
   "execution_count": 52,
   "id": "84858df4-142a-4c9f-8769-41b95e9a5af8",
   "metadata": {},
   "outputs": [
    {
     "data": {
      "image/png": "[encoded data removed]",
      "text/plain": [
       "<Figure size 432x288 with 1 Axes>"
      ]
     },
     "metadata": {
      "needs_background": "light"
     },
     "output_type": "display_data"
    }
   ],
   "source": [
    "# Lag plot\n",
    "\n",
    "sns.regplot(x='lag_7', y='demand', data=df, ci=None, scatter_kws=dict(color='0.25'))\n",
    "plt.show()"
   ]
  },
  {
   "cell_type": "code",
   "execution_count": 59,
   "id": "7c149a67-f232-4cab-97f0-55110b36dcfd",
   "metadata": {},
   "outputs": [
    {
     "data": {
      "image/png": "[encoded data removed]",
      "text/plain": [
       "<Figure size 432x288 with 1 Axes>"
      ]
     },
     "metadata": {
      "needs_background": "light"
     },
     "output_type": "display_data"
    },
    {
     "data": {
      "image/png": "[encoded data removed]",
      "text/plain": [
       "<Figure size 432x288 with 1 Axes>"
      ]
     },
     "metadata": {
      "needs_background": "light"
     },
     "output_type": "display_data"
    },
    {
     "data": {
      "image/png": "[encoded data removed]",
      "text/plain": [
       "<Figure size 432x288 with 1 Axes>"
      ]
     },
     "metadata": {
      "needs_background": "light"
     },
     "output_type": "display_data"
    },
    {
     "data": {
      "image/png": "[encoded data removed]",
      "text/plain": [
       "<Figure size 432x288 with 1 Axes>"
      ]
     },
     "metadata": {
      "needs_background": "light"
     },
     "output_type": "display_data"
    },
    {
     "data": {
      "image/png": "[encoded data removed]",
      "text/plain": [
       "<Figure size 432x288 with 1 Axes>"
      ]
     },
     "metadata": {
      "needs_background": "light"
     },
     "output_type": "display_data"
    },
    {
     "data": {
      "image/png": "[encoded data removed]",
      "text/plain": [
       "<Figure size 432x288 with 1 Axes>"
      ]
     },
     "metadata": {
      "needs_background": "light"
     },
     "output_type": "display_data"
    }
   ],
   "source": [
    "# trend\n",
    "\n",
    "df = train_missing_timestamp_filled_1.copy()\n",
    "for i in ['1h', '1d', '1w', '1m', '6m', '1y']:\n",
    "    \n",
    "    df = df.resample(i).mean()\n",
    "    \n",
    "    plt.plot(df.index, df.demand)\n",
    "    plt.title(i)\n",
    "    plt.show()"
   ]
  },
  {
   "cell_type": "code",
   "execution_count": 1346,
   "id": "6c18d805-4a47-4d9e-a0e6-4e212253df05",
   "metadata": {},
   "outputs": [],
   "source": [
    "mean_2018 = train_missing_timestamp_filled.loc['2018']['demand'].mean()"
   ]
  },
  {
   "cell_type": "code",
   "execution_count": 1347,
   "id": "92e63e35-bc96-4ffb-8a90-838d3d24ffa8",
   "metadata": {},
   "outputs": [],
   "source": [
    "mean_2019 = train_missing_timestamp_filled.loc['2019']['demand'].mean()"
   ]
  },
  {
   "cell_type": "code",
   "execution_count": 1348,
   "id": "5c35e42d-c519-4e71-b966-b46658b2d3de",
   "metadata": {},
   "outputs": [],
   "source": [
    "mean_2020 = train_missing_timestamp_filled.loc['2020']['demand'].mean()"
   ]
  },
  {
   "cell_type": "code",
   "execution_count": 1349,
   "id": "ddccf412-625d-47cd-850d-f6205fddbea9",
   "metadata": {},
   "outputs": [],
   "source": [
    "mean_2021 = train_missing_timestamp_filled.loc['2021']['demand'].mean()"
   ]
  },
  {
   "cell_type": "code",
   "execution_count": 1351,
   "id": "9bf9abda-19c6-477f-b97b-ba4f4707b116",
   "metadata": {},
   "outputs": [
    {
     "data": {
      "text/plain": [
       "1.0224119486509575"
      ]
     },
     "execution_count": 1351,
     "metadata": {},
     "output_type": "execute_result"
    }
   ],
   "source": [
    "mean_2019/mean_2018"
   ]
  },
  {
   "cell_type": "code",
   "execution_count": 1352,
   "id": "678a984d-6e02-4510-a411-33c2890bbdc6",
   "metadata": {},
   "outputs": [
    {
     "data": {
      "text/plain": [
       "1.0330579792220074"
      ]
     },
     "execution_count": 1352,
     "metadata": {},
     "output_type": "execute_result"
    }
   ],
   "source": [
    "mean_2020/mean_2019"
   ]
  },
  {
   "cell_type": "code",
   "execution_count": 1353,
   "id": "f21d2832-2644-4ba0-a155-438787e747c7",
   "metadata": {},
   "outputs": [
    {
     "data": {
      "text/plain": [
       "1.0271388173850626"
      ]
     },
     "execution_count": 1353,
     "metadata": {},
     "output_type": "execute_result"
    }
   ],
   "source": [
    "mean_2021/mean_2020"
   ]
  },
  {
   "cell_type": "code",
   "execution_count": 1354,
   "id": "f70ae9af-a66b-491e-a479-9950b5946ad8",
   "metadata": {},
   "outputs": [],
   "source": [
    "growth_rate = 1.03"
   ]
  },
  {
   "cell_type": "markdown",
   "id": "563beaab-35f2-4445-80f1-c1946869515b",
   "metadata": {
    "tags": []
   },
   "source": [
    "# Target transformation"
   ]
  },
  {
   "cell_type": "code",
   "execution_count": 60,
   "id": "3271cac3-3469-4d30-ad47-638ea4b49d23",
   "metadata": {},
   "outputs": [
    {
     "data": {
      "image/png": "[encoded data removed]",
      "text/plain": [
       "<Figure size 432x288 with 1 Axes>"
      ]
     },
     "metadata": {
      "needs_background": "light"
     },
     "output_type": "display_data"
    }
   ],
   "source": [
    "# target\n",
    "\n",
    "plt.hist(train_missing_timestamp_filled_1['demand'], bins =10)\n",
    "plt.show()"
   ]
  },
  {
   "cell_type": "code",
   "execution_count": 63,
   "id": "b6d6734f-942b-49e1-be5b-0e29c93f8f62",
   "metadata": {},
   "outputs": [],
   "source": [
    "# log transform target\n",
    "\n",
    "log_target = np.log1p(y_train)"
   ]
  },
  {
   "cell_type": "code",
   "execution_count": 64,
   "id": "21b517d6-7dcf-461f-94f7-393981454e15",
   "metadata": {},
   "outputs": [
    {
     "data": {
      "image/png": "[encoded data removed]",
      "text/plain": [
       "<Figure size 432x288 with 1 Axes>"
      ]
     },
     "metadata": {
      "needs_background": "light"
     },
     "output_type": "display_data"
    }
   ],
   "source": [
    "# log target\n",
    "\n",
    "plt.hist(log_target, bins =10)\n",
    "plt.show()"
   ]
  },
  {
   "cell_type": "markdown",
   "id": "92f845db-787b-4283-a67f-76ab76c6c628",
   "metadata": {
    "tags": []
   },
   "source": [
    "# Test"
   ]
  },
  {
   "cell_type": "code",
   "execution_count": 65,
   "id": "1182744a-76ad-4000-b954-999714385aa5",
   "metadata": {},
   "outputs": [
    {
     "data": {
      "text/plain": [
       "(7650, 2)"
      ]
     },
     "execution_count": 65,
     "metadata": {},
     "output_type": "execute_result"
    }
   ],
   "source": [
    "test.shape"
   ]
  },
  {
   "cell_type": "code",
   "execution_count": 67,
   "id": "097030ed-09b6-4805-8c71-3232906b28cb",
   "metadata": {},
   "outputs": [
    {
     "data": {
      "text/html": [
       "<div>\n",
       "<style scoped>\n",
       "    .dataframe tbody tr th:only-of-type {\n",
       "        vertical-align: middle;\n",
       "    }\n",
       "\n",
       "    .dataframe tbody tr th {\n",
       "        vertical-align: top;\n",
       "    }\n",
       "\n",
       "    .dataframe thead th {\n",
       "        text-align: right;\n",
       "    }\n",
       "</style>\n",
       "<table border=\"1\" class=\"dataframe\">\n",
       "  <thead>\n",
       "    <tr style=\"text-align: right;\">\n",
       "      <th></th>\n",
       "      <th>date</th>\n",
       "      <th>hour</th>\n",
       "    </tr>\n",
       "  </thead>\n",
       "  <tbody>\n",
       "    <tr>\n",
       "      <th>0</th>\n",
       "      <td>2021-03-01</td>\n",
       "      <td>0</td>\n",
       "    </tr>\n",
       "    <tr>\n",
       "      <th>1</th>\n",
       "      <td>2021-03-01</td>\n",
       "      <td>1</td>\n",
       "    </tr>\n",
       "    <tr>\n",
       "      <th>2</th>\n",
       "      <td>2021-03-01</td>\n",
       "      <td>2</td>\n",
       "    </tr>\n",
       "    <tr>\n",
       "      <th>3</th>\n",
       "      <td>2021-03-01</td>\n",
       "      <td>3</td>\n",
       "    </tr>\n",
       "    <tr>\n",
       "      <th>4</th>\n",
       "      <td>2021-03-01</td>\n",
       "      <td>5</td>\n",
       "    </tr>\n",
       "  </tbody>\n",
       "</table>\n",
       "</div>"
      ],
      "text/plain": [
       "        date  hour\n",
       "0 2021-03-01     0\n",
       "1 2021-03-01     1\n",
       "2 2021-03-01     2\n",
       "3 2021-03-01     3\n",
       "4 2021-03-01     5"
      ]
     },
     "execution_count": 67,
     "metadata": {},
     "output_type": "execute_result"
    }
   ],
   "source": [
    "test.head()"
   ]
  },
  {
   "cell_type": "code",
   "execution_count": 68,
   "id": "35677426-41e2-40cc-95aa-d2f26cec399b",
   "metadata": {},
   "outputs": [],
   "source": [
    "# set datetime as index\n",
    "\n",
    "test.set_index(pd.to_datetime(test.date) + pd.to_timedelta(test.hour, unit='h'), inplace=True)"
   ]
  },
  {
   "cell_type": "code",
   "execution_count": 69,
   "id": "d03bffb7-c560-4c3e-beae-f9c6ce3b5a61",
   "metadata": {},
   "outputs": [
    {
     "data": {
      "text/plain": [
       "Timestamp('2021-03-01 00:00:00')"
      ]
     },
     "execution_count": 69,
     "metadata": {},
     "output_type": "execute_result"
    }
   ],
   "source": [
    "test.index.min()"
   ]
  },
  {
   "cell_type": "code",
   "execution_count": 70,
   "id": "4c55bedc-0c0a-49a7-90d2-e681b1d3a640",
   "metadata": {},
   "outputs": [
    {
     "data": {
      "text/plain": [
       "Timestamp('2022-03-28 23:00:00')"
      ]
     },
     "execution_count": 70,
     "metadata": {},
     "output_type": "execute_result"
    }
   ],
   "source": [
    "test.index.max()"
   ]
  },
  {
   "cell_type": "code",
   "execution_count": 71,
   "id": "38b23ddc-7a49-4935-a83d-8ccf164cc9a8",
   "metadata": {},
   "outputs": [
    {
     "data": {
      "text/plain": [
       "DatetimeIndex(['2021-03-21', '2021-03-31', '2021-04-07', '2021-04-08',\n",
       "               '2021-04-19', '2021-04-29', '2021-05-04', '2021-05-17',\n",
       "               '2021-06-22', '2021-07-29', '2021-07-30', '2021-07-31',\n",
       "               '2021-08-01', '2021-08-02', '2021-08-03', '2021-08-04',\n",
       "               '2021-08-05', '2021-08-06', '2021-08-07', '2021-08-08',\n",
       "               '2021-08-09', '2021-08-10', '2021-08-11', '2021-08-12',\n",
       "               '2021-08-13', '2021-08-14', '2021-08-15', '2021-08-16',\n",
       "               '2021-08-17', '2021-08-18', '2021-08-19', '2021-08-20',\n",
       "               '2021-08-21', '2021-08-22', '2021-08-23', '2021-08-24',\n",
       "               '2021-08-25', '2021-08-26', '2021-08-27', '2021-08-28',\n",
       "               '2021-08-31', '2021-09-01', '2021-09-03', '2021-09-06',\n",
       "               '2021-09-07', '2021-09-13', '2021-09-15', '2021-09-20',\n",
       "               '2021-09-23', '2021-09-27', '2021-09-28', '2021-09-30',\n",
       "               '2021-10-04', '2021-10-05', '2021-10-09', '2021-10-13',\n",
       "               '2021-10-14', '2021-10-18', '2021-10-21', '2021-10-26',\n",
       "               '2021-11-16', '2021-11-24', '2021-12-13', '2022-01-07',\n",
       "               '2022-01-13', '2022-01-26', '2022-02-07', '2022-02-08',\n",
       "               '2022-02-09', '2022-02-11', '2022-02-23', '2022-02-24',\n",
       "               '2022-03-16', '2022-03-28'],\n",
       "              dtype='datetime64[ns]', freq=None)"
      ]
     },
     "execution_count": 71,
     "metadata": {},
     "output_type": "execute_result"
    }
   ],
   "source": [
    "# check if data is available for all dates in the date range\n",
    "\n",
    "pd.date_range(start=test.index.min().date(), end=test.index.max()).difference(test.index) "
   ]
  },
  {
   "cell_type": "code",
   "execution_count": 72,
   "id": "bda2be60-ec3b-4ddc-8bfe-e3c48e0f269d",
   "metadata": {},
   "outputs": [],
   "source": [
    "# full date range\n",
    "\n",
    "dates_range = pd.date_range(start= test.index.min().date(), end= test.index.max(), freq='1H')\n",
    "df_dates_range = pd.DataFrame(data = dates_range, columns= ['datetime']).set_index(['datetime'])"
   ]
  },
  {
   "cell_type": "code",
   "execution_count": 73,
   "id": "fb763e91-26e7-483f-b5e5-6d9ade075c4f",
   "metadata": {},
   "outputs": [],
   "source": [
    "# fill in missing datestamps\n",
    "\n",
    "test_missing_timestamp_filled = df_dates_range.join(test)"
   ]
  },
  {
   "cell_type": "code",
   "execution_count": 74,
   "id": "d3fa0581-2c0d-43eb-ab1f-4f96b6b11397",
   "metadata": {},
   "outputs": [],
   "source": [
    "# fill date\n",
    "\n",
    "test_missing_timestamp_filled['date'] = test_missing_timestamp_filled.index.date"
   ]
  },
  {
   "cell_type": "code",
   "execution_count": 75,
   "id": "fba118b5-340e-4486-9d23-ba05249d7e23",
   "metadata": {},
   "outputs": [],
   "source": [
    "# fill hour \n",
    "\n",
    "test_missing_timestamp_filled['hour'] = test_missing_timestamp_filled.index.hour"
   ]
  },
  {
   "cell_type": "markdown",
   "id": "5cac6f7b-e0cd-450d-a8ff-e6f89c8d2e8f",
   "metadata": {
    "tags": []
   },
   "source": [
    "# Add mock demand to test date"
   ]
  },
  {
   "cell_type": "code",
   "execution_count": 76,
   "id": "729f2d8d-7eb8-42b8-8e84-543a3a0630a1",
   "metadata": {},
   "outputs": [],
   "source": [
    "# 2021 demand\n",
    "\n",
    "date_range_2021 = pd.date_range(start='2021-01-01', end='2021-12-31 23:00:00', freq='1H')"
   ]
  },
  {
   "cell_type": "code",
   "execution_count": 78,
   "id": "08d8b432-0606-4eaf-bfd7-5557d4f35154",
   "metadata": {},
   "outputs": [],
   "source": [
    "df_date_range_2021 = pd.DataFrame(data = date_range_2021, columns= ['datetime']).set_index(['datetime'])"
   ]
  },
  {
   "cell_type": "code",
   "execution_count": 80,
   "id": "0d3bd95c-7fb4-4482-a356-191b23726ee3",
   "metadata": {},
   "outputs": [],
   "source": [
    "# convert datetime to day, month, year\n",
    "\n",
    "def convert_datetime_to_day_month_year(df):\n",
    "    \n",
    "    date_col = df.index\n",
    "    \n",
    "    df.loc[:,'day'] = date_col.day\n",
    "    df.loc[:,'month'] = date_col.month\n",
    "    df.loc[:,'year'] = date_col.year\n",
    "    \n",
    "    return df\n",
    "    "
   ]
  },
  {
   "cell_type": "code",
   "execution_count": 85,
   "id": "a26c7d22-70c1-4b97-aae1-1390038fd846",
   "metadata": {},
   "outputs": [
    {
     "data": {
      "text/html": [
       "<div>\n",
       "<style scoped>\n",
       "    .dataframe tbody tr th:only-of-type {\n",
       "        vertical-align: middle;\n",
       "    }\n",
       "\n",
       "    .dataframe tbody tr th {\n",
       "        vertical-align: top;\n",
       "    }\n",
       "\n",
       "    .dataframe thead th {\n",
       "        text-align: right;\n",
       "    }\n",
       "</style>\n",
       "<table border=\"1\" class=\"dataframe\">\n",
       "  <thead>\n",
       "    <tr style=\"text-align: right;\">\n",
       "      <th></th>\n",
       "      <th>day</th>\n",
       "      <th>month</th>\n",
       "      <th>year</th>\n",
       "      <th>hour</th>\n",
       "    </tr>\n",
       "    <tr>\n",
       "      <th>datetime</th>\n",
       "      <th></th>\n",
       "      <th></th>\n",
       "      <th></th>\n",
       "      <th></th>\n",
       "    </tr>\n",
       "  </thead>\n",
       "  <tbody>\n",
       "    <tr>\n",
       "      <th>2021-01-01 00:00:00</th>\n",
       "      <td>1</td>\n",
       "      <td>1</td>\n",
       "      <td>2021</td>\n",
       "      <td>0</td>\n",
       "    </tr>\n",
       "    <tr>\n",
       "      <th>2021-01-01 01:00:00</th>\n",
       "      <td>1</td>\n",
       "      <td>1</td>\n",
       "      <td>2021</td>\n",
       "      <td>1</td>\n",
       "    </tr>\n",
       "    <tr>\n",
       "      <th>2021-01-01 02:00:00</th>\n",
       "      <td>1</td>\n",
       "      <td>1</td>\n",
       "      <td>2021</td>\n",
       "      <td>2</td>\n",
       "    </tr>\n",
       "    <tr>\n",
       "      <th>2021-01-01 03:00:00</th>\n",
       "      <td>1</td>\n",
       "      <td>1</td>\n",
       "      <td>2021</td>\n",
       "      <td>3</td>\n",
       "    </tr>\n",
       "    <tr>\n",
       "      <th>2021-01-01 04:00:00</th>\n",
       "      <td>1</td>\n",
       "      <td>1</td>\n",
       "      <td>2021</td>\n",
       "      <td>4</td>\n",
       "    </tr>\n",
       "    <tr>\n",
       "      <th>...</th>\n",
       "      <td>...</td>\n",
       "      <td>...</td>\n",
       "      <td>...</td>\n",
       "      <td>...</td>\n",
       "    </tr>\n",
       "    <tr>\n",
       "      <th>2021-12-31 19:00:00</th>\n",
       "      <td>31</td>\n",
       "      <td>12</td>\n",
       "      <td>2021</td>\n",
       "      <td>19</td>\n",
       "    </tr>\n",
       "    <tr>\n",
       "      <th>2021-12-31 20:00:00</th>\n",
       "      <td>31</td>\n",
       "      <td>12</td>\n",
       "      <td>2021</td>\n",
       "      <td>20</td>\n",
       "    </tr>\n",
       "    <tr>\n",
       "      <th>2021-12-31 21:00:00</th>\n",
       "      <td>31</td>\n",
       "      <td>12</td>\n",
       "      <td>2021</td>\n",
       "      <td>21</td>\n",
       "    </tr>\n",
       "    <tr>\n",
       "      <th>2021-12-31 22:00:00</th>\n",
       "      <td>31</td>\n",
       "      <td>12</td>\n",
       "      <td>2021</td>\n",
       "      <td>22</td>\n",
       "    </tr>\n",
       "    <tr>\n",
       "      <th>2021-12-31 23:00:00</th>\n",
       "      <td>31</td>\n",
       "      <td>12</td>\n",
       "      <td>2021</td>\n",
       "      <td>23</td>\n",
       "    </tr>\n",
       "  </tbody>\n",
       "</table>\n",
       "<p>8760 rows × 4 columns</p>\n",
       "</div>"
      ],
      "text/plain": [
       "                     day  month  year  hour\n",
       "datetime                                   \n",
       "2021-01-01 00:00:00    1      1  2021     0\n",
       "2021-01-01 01:00:00    1      1  2021     1\n",
       "2021-01-01 02:00:00    1      1  2021     2\n",
       "2021-01-01 03:00:00    1      1  2021     3\n",
       "2021-01-01 04:00:00    1      1  2021     4\n",
       "...                  ...    ...   ...   ...\n",
       "2021-12-31 19:00:00   31     12  2021    19\n",
       "2021-12-31 20:00:00   31     12  2021    20\n",
       "2021-12-31 21:00:00   31     12  2021    21\n",
       "2021-12-31 22:00:00   31     12  2021    22\n",
       "2021-12-31 23:00:00   31     12  2021    23\n",
       "\n",
       "[8760 rows x 4 columns]"
      ]
     },
     "execution_count": 85,
     "metadata": {},
     "output_type": "execute_result"
    }
   ],
   "source": [
    "# add day, month, year\n",
    "\n",
    "# train\n",
    "convert_datetime_to_day_month_year(train_missing_timestamp_filled_1)\n",
    "\n",
    "# test\n",
    "convert_datetime_to_day_month_year(df_date_range_2021)\n",
    "\n"
   ]
  },
  {
   "cell_type": "code",
   "execution_count": 82,
   "id": "b9ce55c8-f563-45d6-b54a-d4d355f822a7",
   "metadata": {},
   "outputs": [],
   "source": [
    "# add hour\n",
    "\n",
    "df_date_range_2021.loc[:,'hour'] = df_date_range_2021.index.hour"
   ]
  },
  {
   "cell_type": "code",
   "execution_count": 86,
   "id": "d9b09e52-4b2e-4794-9a4b-20442c55a76b",
   "metadata": {},
   "outputs": [],
   "source": [
    "df_date_range_2021_demand = df_date_range_2021.merge(train_missing_timestamp_filled_1.\\\n",
    "                                                     loc['2020'][['day','month','hour','demand']], \\\n",
    "                                                     on = ['day','month','hour'], how = 'inner')"
   ]
  },
  {
   "cell_type": "code",
   "execution_count": 88,
   "id": "7832e147-d060-472e-9072-8fbe1079661d",
   "metadata": {},
   "outputs": [],
   "source": [
    "# year-over-year average demand ratio\n",
    "growth_rate = 1.03\n",
    "\n",
    "df_date_range_2021_demand['demand'] = (df_date_range_2021_demand['demand']*growth_rate).astype(int)"
   ]
  },
  {
   "cell_type": "code",
   "execution_count": 89,
   "id": "ddbdf082-41d7-410a-bf75-c0aa68e5637e",
   "metadata": {},
   "outputs": [
    {
     "data": {
      "text/html": [
       "<div>\n",
       "<style scoped>\n",
       "    .dataframe tbody tr th:only-of-type {\n",
       "        vertical-align: middle;\n",
       "    }\n",
       "\n",
       "    .dataframe tbody tr th {\n",
       "        vertical-align: top;\n",
       "    }\n",
       "\n",
       "    .dataframe thead th {\n",
       "        text-align: right;\n",
       "    }\n",
       "</style>\n",
       "<table border=\"1\" class=\"dataframe\">\n",
       "  <thead>\n",
       "    <tr style=\"text-align: right;\">\n",
       "      <th></th>\n",
       "      <th>day</th>\n",
       "      <th>month</th>\n",
       "      <th>year</th>\n",
       "      <th>hour</th>\n",
       "      <th>demand</th>\n",
       "    </tr>\n",
       "  </thead>\n",
       "  <tbody>\n",
       "    <tr>\n",
       "      <th>0</th>\n",
       "      <td>1</td>\n",
       "      <td>1</td>\n",
       "      <td>2021</td>\n",
       "      <td>0</td>\n",
       "      <td>47</td>\n",
       "    </tr>\n",
       "    <tr>\n",
       "      <th>1</th>\n",
       "      <td>1</td>\n",
       "      <td>1</td>\n",
       "      <td>2021</td>\n",
       "      <td>1</td>\n",
       "      <td>42</td>\n",
       "    </tr>\n",
       "    <tr>\n",
       "      <th>2</th>\n",
       "      <td>1</td>\n",
       "      <td>1</td>\n",
       "      <td>2021</td>\n",
       "      <td>2</td>\n",
       "      <td>0</td>\n",
       "    </tr>\n",
       "    <tr>\n",
       "      <th>3</th>\n",
       "      <td>1</td>\n",
       "      <td>1</td>\n",
       "      <td>2021</td>\n",
       "      <td>3</td>\n",
       "      <td>32</td>\n",
       "    </tr>\n",
       "    <tr>\n",
       "      <th>4</th>\n",
       "      <td>1</td>\n",
       "      <td>1</td>\n",
       "      <td>2021</td>\n",
       "      <td>4</td>\n",
       "      <td>0</td>\n",
       "    </tr>\n",
       "    <tr>\n",
       "      <th>...</th>\n",
       "      <td>...</td>\n",
       "      <td>...</td>\n",
       "      <td>...</td>\n",
       "      <td>...</td>\n",
       "      <td>...</td>\n",
       "    </tr>\n",
       "    <tr>\n",
       "      <th>8755</th>\n",
       "      <td>31</td>\n",
       "      <td>12</td>\n",
       "      <td>2021</td>\n",
       "      <td>19</td>\n",
       "      <td>130</td>\n",
       "    </tr>\n",
       "    <tr>\n",
       "      <th>8756</th>\n",
       "      <td>31</td>\n",
       "      <td>12</td>\n",
       "      <td>2021</td>\n",
       "      <td>20</td>\n",
       "      <td>43</td>\n",
       "    </tr>\n",
       "    <tr>\n",
       "      <th>8757</th>\n",
       "      <td>31</td>\n",
       "      <td>12</td>\n",
       "      <td>2021</td>\n",
       "      <td>21</td>\n",
       "      <td>107</td>\n",
       "    </tr>\n",
       "    <tr>\n",
       "      <th>8758</th>\n",
       "      <td>31</td>\n",
       "      <td>12</td>\n",
       "      <td>2021</td>\n",
       "      <td>22</td>\n",
       "      <td>24</td>\n",
       "    </tr>\n",
       "    <tr>\n",
       "      <th>8759</th>\n",
       "      <td>31</td>\n",
       "      <td>12</td>\n",
       "      <td>2021</td>\n",
       "      <td>23</td>\n",
       "      <td>81</td>\n",
       "    </tr>\n",
       "  </tbody>\n",
       "</table>\n",
       "<p>8760 rows × 5 columns</p>\n",
       "</div>"
      ],
      "text/plain": [
       "      day  month  year  hour  demand\n",
       "0       1      1  2021     0      47\n",
       "1       1      1  2021     1      42\n",
       "2       1      1  2021     2       0\n",
       "3       1      1  2021     3      32\n",
       "4       1      1  2021     4       0\n",
       "...   ...    ...   ...   ...     ...\n",
       "8755   31     12  2021    19     130\n",
       "8756   31     12  2021    20      43\n",
       "8757   31     12  2021    21     107\n",
       "8758   31     12  2021    22      24\n",
       "8759   31     12  2021    23      81\n",
       "\n",
       "[8760 rows x 5 columns]"
      ]
     },
     "execution_count": 89,
     "metadata": {},
     "output_type": "execute_result"
    }
   ],
   "source": [
    "df_date_range_2021_demand"
   ]
  },
  {
   "cell_type": "code",
   "execution_count": 90,
   "id": "b635c349-7453-4127-a0ee-0cfdca6455b3",
   "metadata": {},
   "outputs": [],
   "source": [
    "# 2022 demand\n",
    "\n",
    "date_range_2022 = pd.date_range(start='2022-01-01', end='2022-03-28 23:00:00', freq='1H')"
   ]
  },
  {
   "cell_type": "code",
   "execution_count": 91,
   "id": "38fec8ff-791f-46f5-8e0b-88977a7521e4",
   "metadata": {},
   "outputs": [],
   "source": [
    "df_date_range_2022 = pd.DataFrame(data = date_range_2022, columns= ['datetime']).set_index(['datetime'])"
   ]
  },
  {
   "cell_type": "code",
   "execution_count": 92,
   "id": "150dc361-68a5-4ab0-a836-920115f84163",
   "metadata": {},
   "outputs": [
    {
     "data": {
      "text/html": [
       "<div>\n",
       "<style scoped>\n",
       "    .dataframe tbody tr th:only-of-type {\n",
       "        vertical-align: middle;\n",
       "    }\n",
       "\n",
       "    .dataframe tbody tr th {\n",
       "        vertical-align: top;\n",
       "    }\n",
       "\n",
       "    .dataframe thead th {\n",
       "        text-align: right;\n",
       "    }\n",
       "</style>\n",
       "<table border=\"1\" class=\"dataframe\">\n",
       "  <thead>\n",
       "    <tr style=\"text-align: right;\">\n",
       "      <th></th>\n",
       "      <th>day</th>\n",
       "      <th>month</th>\n",
       "      <th>year</th>\n",
       "    </tr>\n",
       "    <tr>\n",
       "      <th>datetime</th>\n",
       "      <th></th>\n",
       "      <th></th>\n",
       "      <th></th>\n",
       "    </tr>\n",
       "  </thead>\n",
       "  <tbody>\n",
       "    <tr>\n",
       "      <th>2022-01-01 00:00:00</th>\n",
       "      <td>1</td>\n",
       "      <td>1</td>\n",
       "      <td>2022</td>\n",
       "    </tr>\n",
       "    <tr>\n",
       "      <th>2022-01-01 01:00:00</th>\n",
       "      <td>1</td>\n",
       "      <td>1</td>\n",
       "      <td>2022</td>\n",
       "    </tr>\n",
       "    <tr>\n",
       "      <th>2022-01-01 02:00:00</th>\n",
       "      <td>1</td>\n",
       "      <td>1</td>\n",
       "      <td>2022</td>\n",
       "    </tr>\n",
       "    <tr>\n",
       "      <th>2022-01-01 03:00:00</th>\n",
       "      <td>1</td>\n",
       "      <td>1</td>\n",
       "      <td>2022</td>\n",
       "    </tr>\n",
       "    <tr>\n",
       "      <th>2022-01-01 04:00:00</th>\n",
       "      <td>1</td>\n",
       "      <td>1</td>\n",
       "      <td>2022</td>\n",
       "    </tr>\n",
       "    <tr>\n",
       "      <th>...</th>\n",
       "      <td>...</td>\n",
       "      <td>...</td>\n",
       "      <td>...</td>\n",
       "    </tr>\n",
       "    <tr>\n",
       "      <th>2022-03-28 19:00:00</th>\n",
       "      <td>28</td>\n",
       "      <td>3</td>\n",
       "      <td>2022</td>\n",
       "    </tr>\n",
       "    <tr>\n",
       "      <th>2022-03-28 20:00:00</th>\n",
       "      <td>28</td>\n",
       "      <td>3</td>\n",
       "      <td>2022</td>\n",
       "    </tr>\n",
       "    <tr>\n",
       "      <th>2022-03-28 21:00:00</th>\n",
       "      <td>28</td>\n",
       "      <td>3</td>\n",
       "      <td>2022</td>\n",
       "    </tr>\n",
       "    <tr>\n",
       "      <th>2022-03-28 22:00:00</th>\n",
       "      <td>28</td>\n",
       "      <td>3</td>\n",
       "      <td>2022</td>\n",
       "    </tr>\n",
       "    <tr>\n",
       "      <th>2022-03-28 23:00:00</th>\n",
       "      <td>28</td>\n",
       "      <td>3</td>\n",
       "      <td>2022</td>\n",
       "    </tr>\n",
       "  </tbody>\n",
       "</table>\n",
       "<p>2088 rows × 3 columns</p>\n",
       "</div>"
      ],
      "text/plain": [
       "                     day  month  year\n",
       "datetime                             \n",
       "2022-01-01 00:00:00    1      1  2022\n",
       "2022-01-01 01:00:00    1      1  2022\n",
       "2022-01-01 02:00:00    1      1  2022\n",
       "2022-01-01 03:00:00    1      1  2022\n",
       "2022-01-01 04:00:00    1      1  2022\n",
       "...                  ...    ...   ...\n",
       "2022-03-28 19:00:00   28      3  2022\n",
       "2022-03-28 20:00:00   28      3  2022\n",
       "2022-03-28 21:00:00   28      3  2022\n",
       "2022-03-28 22:00:00   28      3  2022\n",
       "2022-03-28 23:00:00   28      3  2022\n",
       "\n",
       "[2088 rows x 3 columns]"
      ]
     },
     "execution_count": 92,
     "metadata": {},
     "output_type": "execute_result"
    }
   ],
   "source": [
    "# add day, month, year\n",
    "\n",
    "convert_datetime_to_day_month_year(df_date_range_2022)"
   ]
  },
  {
   "cell_type": "code",
   "execution_count": 93,
   "id": "f428e794-c6b7-4bac-aaaa-0d67c4220ae5",
   "metadata": {},
   "outputs": [],
   "source": [
    "# add hour\n",
    "\n",
    "df_date_range_2022.loc[:,'hour'] = df_date_range_2022.index.hour"
   ]
  },
  {
   "cell_type": "code",
   "execution_count": 94,
   "id": "cd3d75c7-995a-49de-9c9e-313878df8ec7",
   "metadata": {},
   "outputs": [],
   "source": [
    "df_date_range_2022_demand = df_date_range_2022.merge(df_date_range_2021_demand[['day','month','hour','demand']], \\\n",
    "                                                     on = ['day','month','hour'], how = 'inner')"
   ]
  },
  {
   "cell_type": "code",
   "execution_count": 95,
   "id": "fbe7f993-d6e7-474d-8b95-f707c5f72e14",
   "metadata": {},
   "outputs": [
    {
     "data": {
      "text/html": [
       "<div>\n",
       "<style scoped>\n",
       "    .dataframe tbody tr th:only-of-type {\n",
       "        vertical-align: middle;\n",
       "    }\n",
       "\n",
       "    .dataframe tbody tr th {\n",
       "        vertical-align: top;\n",
       "    }\n",
       "\n",
       "    .dataframe thead th {\n",
       "        text-align: right;\n",
       "    }\n",
       "</style>\n",
       "<table border=\"1\" class=\"dataframe\">\n",
       "  <thead>\n",
       "    <tr style=\"text-align: right;\">\n",
       "      <th></th>\n",
       "      <th>day</th>\n",
       "      <th>month</th>\n",
       "      <th>year</th>\n",
       "      <th>hour</th>\n",
       "      <th>demand</th>\n",
       "    </tr>\n",
       "  </thead>\n",
       "  <tbody>\n",
       "    <tr>\n",
       "      <th>0</th>\n",
       "      <td>1</td>\n",
       "      <td>1</td>\n",
       "      <td>2022</td>\n",
       "      <td>0</td>\n",
       "      <td>47</td>\n",
       "    </tr>\n",
       "    <tr>\n",
       "      <th>1</th>\n",
       "      <td>1</td>\n",
       "      <td>1</td>\n",
       "      <td>2022</td>\n",
       "      <td>1</td>\n",
       "      <td>42</td>\n",
       "    </tr>\n",
       "    <tr>\n",
       "      <th>2</th>\n",
       "      <td>1</td>\n",
       "      <td>1</td>\n",
       "      <td>2022</td>\n",
       "      <td>2</td>\n",
       "      <td>0</td>\n",
       "    </tr>\n",
       "    <tr>\n",
       "      <th>3</th>\n",
       "      <td>1</td>\n",
       "      <td>1</td>\n",
       "      <td>2022</td>\n",
       "      <td>3</td>\n",
       "      <td>32</td>\n",
       "    </tr>\n",
       "    <tr>\n",
       "      <th>4</th>\n",
       "      <td>1</td>\n",
       "      <td>1</td>\n",
       "      <td>2022</td>\n",
       "      <td>4</td>\n",
       "      <td>0</td>\n",
       "    </tr>\n",
       "    <tr>\n",
       "      <th>...</th>\n",
       "      <td>...</td>\n",
       "      <td>...</td>\n",
       "      <td>...</td>\n",
       "      <td>...</td>\n",
       "      <td>...</td>\n",
       "    </tr>\n",
       "    <tr>\n",
       "      <th>2083</th>\n",
       "      <td>28</td>\n",
       "      <td>3</td>\n",
       "      <td>2022</td>\n",
       "      <td>19</td>\n",
       "      <td>119</td>\n",
       "    </tr>\n",
       "    <tr>\n",
       "      <th>2084</th>\n",
       "      <td>28</td>\n",
       "      <td>3</td>\n",
       "      <td>2022</td>\n",
       "      <td>20</td>\n",
       "      <td>145</td>\n",
       "    </tr>\n",
       "    <tr>\n",
       "      <th>2085</th>\n",
       "      <td>28</td>\n",
       "      <td>3</td>\n",
       "      <td>2022</td>\n",
       "      <td>21</td>\n",
       "      <td>103</td>\n",
       "    </tr>\n",
       "    <tr>\n",
       "      <th>2086</th>\n",
       "      <td>28</td>\n",
       "      <td>3</td>\n",
       "      <td>2022</td>\n",
       "      <td>22</td>\n",
       "      <td>22</td>\n",
       "    </tr>\n",
       "    <tr>\n",
       "      <th>2087</th>\n",
       "      <td>28</td>\n",
       "      <td>3</td>\n",
       "      <td>2022</td>\n",
       "      <td>23</td>\n",
       "      <td>50</td>\n",
       "    </tr>\n",
       "  </tbody>\n",
       "</table>\n",
       "<p>2088 rows × 5 columns</p>\n",
       "</div>"
      ],
      "text/plain": [
       "      day  month  year  hour  demand\n",
       "0       1      1  2022     0      47\n",
       "1       1      1  2022     1      42\n",
       "2       1      1  2022     2       0\n",
       "3       1      1  2022     3      32\n",
       "4       1      1  2022     4       0\n",
       "...   ...    ...   ...   ...     ...\n",
       "2083   28      3  2022    19     119\n",
       "2084   28      3  2022    20     145\n",
       "2085   28      3  2022    21     103\n",
       "2086   28      3  2022    22      22\n",
       "2087   28      3  2022    23      50\n",
       "\n",
       "[2088 rows x 5 columns]"
      ]
     },
     "execution_count": 95,
     "metadata": {},
     "output_type": "execute_result"
    }
   ],
   "source": [
    "df_date_range_2022_demand"
   ]
  },
  {
   "cell_type": "code",
   "execution_count": 96,
   "id": "dda18353-93af-4d04-a785-31d4cfecafc7",
   "metadata": {},
   "outputs": [],
   "source": [
    "df_date_range_2022_demand['demand'] = (df_date_range_2022_demand['demand']*growth_rate).astype(int)"
   ]
  },
  {
   "cell_type": "code",
   "execution_count": 97,
   "id": "f7f3062e-8b8d-4b1f-98fa-a54b43ce2e73",
   "metadata": {},
   "outputs": [],
   "source": [
    "# concat both df_date_range_2021_demand and df_date_range_2022_demand\n",
    "\n",
    "demand_2021_22 = pd.concat([df_date_range_2021_demand, df_date_range_2022_demand])"
   ]
  },
  {
   "cell_type": "code",
   "execution_count": 98,
   "id": "f9c45104-7ec9-4af4-ab41-4a19697d6596",
   "metadata": {},
   "outputs": [],
   "source": [
    "demand_2021_22['date'] = demand_2021_22['year'].astype(str)+'-'+\\\n",
    "(demand_2021_22['month']).astype(str)+'-'+(demand_2021_22['day']).astype(str)"
   ]
  },
  {
   "cell_type": "code",
   "execution_count": 99,
   "id": "cb95deed-b336-4476-be97-bfa5d121682d",
   "metadata": {},
   "outputs": [],
   "source": [
    "demand_2021_22['date'] = pd.to_datetime(demand_2021_22['date'])"
   ]
  },
  {
   "cell_type": "code",
   "execution_count": 100,
   "id": "0e4a834d-7535-46f2-8bf8-ed385382e41a",
   "metadata": {},
   "outputs": [
    {
     "data": {
      "text/html": [
       "<div>\n",
       "<style scoped>\n",
       "    .dataframe tbody tr th:only-of-type {\n",
       "        vertical-align: middle;\n",
       "    }\n",
       "\n",
       "    .dataframe tbody tr th {\n",
       "        vertical-align: top;\n",
       "    }\n",
       "\n",
       "    .dataframe thead th {\n",
       "        text-align: right;\n",
       "    }\n",
       "</style>\n",
       "<table border=\"1\" class=\"dataframe\">\n",
       "  <thead>\n",
       "    <tr style=\"text-align: right;\">\n",
       "      <th></th>\n",
       "      <th>day</th>\n",
       "      <th>month</th>\n",
       "      <th>year</th>\n",
       "      <th>hour</th>\n",
       "      <th>demand</th>\n",
       "      <th>date</th>\n",
       "    </tr>\n",
       "  </thead>\n",
       "  <tbody>\n",
       "    <tr>\n",
       "      <th>0</th>\n",
       "      <td>1</td>\n",
       "      <td>1</td>\n",
       "      <td>2021</td>\n",
       "      <td>0</td>\n",
       "      <td>47</td>\n",
       "      <td>2021-01-01</td>\n",
       "    </tr>\n",
       "    <tr>\n",
       "      <th>1</th>\n",
       "      <td>1</td>\n",
       "      <td>1</td>\n",
       "      <td>2021</td>\n",
       "      <td>1</td>\n",
       "      <td>42</td>\n",
       "      <td>2021-01-01</td>\n",
       "    </tr>\n",
       "    <tr>\n",
       "      <th>2</th>\n",
       "      <td>1</td>\n",
       "      <td>1</td>\n",
       "      <td>2021</td>\n",
       "      <td>2</td>\n",
       "      <td>0</td>\n",
       "      <td>2021-01-01</td>\n",
       "    </tr>\n",
       "    <tr>\n",
       "      <th>3</th>\n",
       "      <td>1</td>\n",
       "      <td>1</td>\n",
       "      <td>2021</td>\n",
       "      <td>3</td>\n",
       "      <td>32</td>\n",
       "      <td>2021-01-01</td>\n",
       "    </tr>\n",
       "    <tr>\n",
       "      <th>4</th>\n",
       "      <td>1</td>\n",
       "      <td>1</td>\n",
       "      <td>2021</td>\n",
       "      <td>4</td>\n",
       "      <td>0</td>\n",
       "      <td>2021-01-01</td>\n",
       "    </tr>\n",
       "    <tr>\n",
       "      <th>...</th>\n",
       "      <td>...</td>\n",
       "      <td>...</td>\n",
       "      <td>...</td>\n",
       "      <td>...</td>\n",
       "      <td>...</td>\n",
       "      <td>...</td>\n",
       "    </tr>\n",
       "    <tr>\n",
       "      <th>2083</th>\n",
       "      <td>28</td>\n",
       "      <td>3</td>\n",
       "      <td>2022</td>\n",
       "      <td>19</td>\n",
       "      <td>122</td>\n",
       "      <td>2022-03-28</td>\n",
       "    </tr>\n",
       "    <tr>\n",
       "      <th>2084</th>\n",
       "      <td>28</td>\n",
       "      <td>3</td>\n",
       "      <td>2022</td>\n",
       "      <td>20</td>\n",
       "      <td>149</td>\n",
       "      <td>2022-03-28</td>\n",
       "    </tr>\n",
       "    <tr>\n",
       "      <th>2085</th>\n",
       "      <td>28</td>\n",
       "      <td>3</td>\n",
       "      <td>2022</td>\n",
       "      <td>21</td>\n",
       "      <td>106</td>\n",
       "      <td>2022-03-28</td>\n",
       "    </tr>\n",
       "    <tr>\n",
       "      <th>2086</th>\n",
       "      <td>28</td>\n",
       "      <td>3</td>\n",
       "      <td>2022</td>\n",
       "      <td>22</td>\n",
       "      <td>22</td>\n",
       "      <td>2022-03-28</td>\n",
       "    </tr>\n",
       "    <tr>\n",
       "      <th>2087</th>\n",
       "      <td>28</td>\n",
       "      <td>3</td>\n",
       "      <td>2022</td>\n",
       "      <td>23</td>\n",
       "      <td>51</td>\n",
       "      <td>2022-03-28</td>\n",
       "    </tr>\n",
       "  </tbody>\n",
       "</table>\n",
       "<p>10848 rows × 6 columns</p>\n",
       "</div>"
      ],
      "text/plain": [
       "      day  month  year  hour  demand       date\n",
       "0       1      1  2021     0      47 2021-01-01\n",
       "1       1      1  2021     1      42 2021-01-01\n",
       "2       1      1  2021     2       0 2021-01-01\n",
       "3       1      1  2021     3      32 2021-01-01\n",
       "4       1      1  2021     4       0 2021-01-01\n",
       "...   ...    ...   ...   ...     ...        ...\n",
       "2083   28      3  2022    19     122 2022-03-28\n",
       "2084   28      3  2022    20     149 2022-03-28\n",
       "2085   28      3  2022    21     106 2022-03-28\n",
       "2086   28      3  2022    22      22 2022-03-28\n",
       "2087   28      3  2022    23      51 2022-03-28\n",
       "\n",
       "[10848 rows x 6 columns]"
      ]
     },
     "execution_count": 100,
     "metadata": {},
     "output_type": "execute_result"
    }
   ],
   "source": [
    "demand_2021_22"
   ]
  },
  {
   "cell_type": "code",
   "execution_count": 119,
   "id": "53f253fb-66fb-4883-a91b-ecf4063c64e4",
   "metadata": {},
   "outputs": [],
   "source": [
    "# crop demand_2021_22 to '2021-03 ' to '2022-03'\n",
    "\n",
    "demand_2021_22_cropped = demand_2021_22[(demand_2021_22['year']!=2021) | (demand_2021_22['month']>=3)]"
   ]
  },
  {
   "cell_type": "code",
   "execution_count": 122,
   "id": "ea1ab1a0-d199-489a-928a-f0c91cbc9737",
   "metadata": {},
   "outputs": [],
   "source": [
    "# save test_with_missing_timestamp\n",
    "# demand_2021_22_cropped.to_csv('../data/input/test_with_missing_timestamps.csv', index=None)"
   ]
  },
  {
   "cell_type": "code",
   "execution_count": 101,
   "id": "5495f823-fb2e-41c9-b129-36841d8a2e78",
   "metadata": {},
   "outputs": [],
   "source": [
    "# merge with sample\n",
    "\n",
    "sample = sample[['date','hour']].merge(demand_2021_22[['date','hour','demand']], \\\n",
    "                                       on = ['date','hour'], how='inner').drop_duplicates()"
   ]
  },
  {
   "cell_type": "code",
   "execution_count": 102,
   "id": "000013c7-9114-4e00-a002-3ea3ab4aab9d",
   "metadata": {},
   "outputs": [
    {
     "data": {
      "text/html": [
       "<div>\n",
       "<style scoped>\n",
       "    .dataframe tbody tr th:only-of-type {\n",
       "        vertical-align: middle;\n",
       "    }\n",
       "\n",
       "    .dataframe tbody tr th {\n",
       "        vertical-align: top;\n",
       "    }\n",
       "\n",
       "    .dataframe thead th {\n",
       "        text-align: right;\n",
       "    }\n",
       "</style>\n",
       "<table border=\"1\" class=\"dataframe\">\n",
       "  <thead>\n",
       "    <tr style=\"text-align: right;\">\n",
       "      <th></th>\n",
       "      <th>date</th>\n",
       "      <th>hour</th>\n",
       "      <th>demand</th>\n",
       "    </tr>\n",
       "  </thead>\n",
       "  <tbody>\n",
       "    <tr>\n",
       "      <th>0</th>\n",
       "      <td>2021-03-01</td>\n",
       "      <td>0</td>\n",
       "      <td>95</td>\n",
       "    </tr>\n",
       "    <tr>\n",
       "      <th>1</th>\n",
       "      <td>2021-03-01</td>\n",
       "      <td>1</td>\n",
       "      <td>66</td>\n",
       "    </tr>\n",
       "    <tr>\n",
       "      <th>2</th>\n",
       "      <td>2021-03-01</td>\n",
       "      <td>2</td>\n",
       "      <td>60</td>\n",
       "    </tr>\n",
       "    <tr>\n",
       "      <th>3</th>\n",
       "      <td>2021-03-01</td>\n",
       "      <td>3</td>\n",
       "      <td>0</td>\n",
       "    </tr>\n",
       "    <tr>\n",
       "      <th>4</th>\n",
       "      <td>2021-03-01</td>\n",
       "      <td>5</td>\n",
       "      <td>72</td>\n",
       "    </tr>\n",
       "    <tr>\n",
       "      <th>...</th>\n",
       "      <td>...</td>\n",
       "      <td>...</td>\n",
       "      <td>...</td>\n",
       "    </tr>\n",
       "    <tr>\n",
       "      <th>7645</th>\n",
       "      <td>2022-03-28</td>\n",
       "      <td>19</td>\n",
       "      <td>122</td>\n",
       "    </tr>\n",
       "    <tr>\n",
       "      <th>7646</th>\n",
       "      <td>2022-03-28</td>\n",
       "      <td>20</td>\n",
       "      <td>149</td>\n",
       "    </tr>\n",
       "    <tr>\n",
       "      <th>7647</th>\n",
       "      <td>2022-03-28</td>\n",
       "      <td>21</td>\n",
       "      <td>106</td>\n",
       "    </tr>\n",
       "    <tr>\n",
       "      <th>7648</th>\n",
       "      <td>2022-03-28</td>\n",
       "      <td>22</td>\n",
       "      <td>22</td>\n",
       "    </tr>\n",
       "    <tr>\n",
       "      <th>7649</th>\n",
       "      <td>2022-03-28</td>\n",
       "      <td>23</td>\n",
       "      <td>51</td>\n",
       "    </tr>\n",
       "  </tbody>\n",
       "</table>\n",
       "<p>7650 rows × 3 columns</p>\n",
       "</div>"
      ],
      "text/plain": [
       "           date  hour  demand\n",
       "0    2021-03-01     0      95\n",
       "1    2021-03-01     1      66\n",
       "2    2021-03-01     2      60\n",
       "3    2021-03-01     3       0\n",
       "4    2021-03-01     5      72\n",
       "...         ...   ...     ...\n",
       "7645 2022-03-28    19     122\n",
       "7646 2022-03-28    20     149\n",
       "7647 2022-03-28    21     106\n",
       "7648 2022-03-28    22      22\n",
       "7649 2022-03-28    23      51\n",
       "\n",
       "[7650 rows x 3 columns]"
      ]
     },
     "execution_count": 102,
     "metadata": {},
     "output_type": "execute_result"
    }
   ],
   "source": [
    "sample"
   ]
  },
  {
   "cell_type": "code",
   "execution_count": 104,
   "id": "34ce7952-896d-4749-a76f-a2a68514ea00",
   "metadata": {},
   "outputs": [],
   "source": [
    "# save to csv\n",
    "\n",
    "sample.to_csv('../data/input/test_with_mock_demand.csv', index=None)"
   ]
  }
 ],
 "metadata": {
  "kernelspec": {
   "display_name": "Python 3",
   "language": "python",
   "name": "python3"
  },
  "language_info": {
   "codemirror_mode": {
    "name": "ipython",
    "version": 3
   },
   "file_extension": ".py",
   "mimetype": "text/x-python",
   "name": "python",
   "nbconvert_exporter": "python",
   "pygments_lexer": "ipython3",
   "version": "3.7.10"
  }
 },
 "nbformat": 4,
 "nbformat_minor": 5
}
