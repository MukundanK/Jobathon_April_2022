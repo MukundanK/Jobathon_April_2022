{
  "cells": [
    {
      "cell_type": "markdown",
      "id": "96e5d472-2281-44cd-b3eb-4d89a63655ad",
      "metadata": {
        "id": "96e5d472-2281-44cd-b3eb-4d89a63655ad"
      },
      "source": [
        "# This notebook uses the original train and test datasets"
      ]
    },
    {
      "cell_type": "code",
      "execution_count": 2,
      "id": "790a743b-a703-45de-8453-33a580749542",
      "metadata": {
        "id": "790a743b-a703-45de-8453-33a580749542"
      },
      "outputs": [],
      "source": [
        "# imports\n",
        "\n",
        "import pandas as pd\n",
        "import numpy as np\n",
        "import matplotlib.pyplot as plt\n",
        "import holidays\n",
        "from xgboost import XGBRegressor\n",
        "from sklearn.metrics import mean_squared_error\n",
        "import seaborn as sns\n",
        "import datetime\n",
        "from lightgbm import LGBMRegressor\n",
        "from sklearn.linear_model import LinearRegression\n",
        "from sklearn.ensemble import RandomForestRegressor"
      ]
    },
    {
      "cell_type": "code",
      "execution_count": 3,
      "id": "98009ffe-ecd4-4f58-8178-10149c88ef06",
      "metadata": {
        "id": "98009ffe-ecd4-4f58-8178-10149c88ef06"
      },
      "outputs": [],
      "source": [
        "# read in data\n",
        "\n",
        "train = pd.read_csv('./train_E1GspfA.csv', parse_dates=['date'])\n",
        "test = pd.read_csv('./test_6QvDdzb.csv', parse_dates=['date'])\n",
        "sample = pd.read_csv('./sample_4E0BhPN.csv', parse_dates=['date'])"
      ]
    },
    {
      "cell_type": "code",
      "execution_count": 4,
      "id": "c113c37d-541e-45b5-913a-e1781ffc414d",
      "metadata": {
        "id": "c113c37d-541e-45b5-913a-e1781ffc414d"
      },
      "outputs": [],
      "source": [
        "# set datetime as index\n",
        "\n",
        "train.set_index(pd.to_datetime(train.date) + pd.to_timedelta(train.hour, unit='h'), inplace=True)"
      ]
    },
    {
      "cell_type": "code",
      "execution_count": 5,
      "id": "a1360568-04fa-4c0a-a0a3-5281d70ceefd",
      "metadata": {
        "id": "a1360568-04fa-4c0a-a0a3-5281d70ceefd"
      },
      "outputs": [],
      "source": [
        "# set datetime as index\n",
        "\n",
        "test.set_index(pd.to_datetime(test.date) + pd.to_timedelta(test.hour, unit='h'), inplace=True)"
      ]
    },
    {
      "cell_type": "markdown",
      "id": "d23f6aed-2dc1-46df-95fa-9c22ab80c863",
      "metadata": {
        "tags": [],
        "id": "d23f6aed-2dc1-46df-95fa-9c22ab80c863"
      },
      "source": [
        "# Feature Engineering"
      ]
    },
    {
      "cell_type": "code",
      "execution_count": 6,
      "id": "9cd0440c-b56f-4b5f-bd94-2f668e2bec65",
      "metadata": {
        "id": "9cd0440c-b56f-4b5f-bd94-2f668e2bec65"
      },
      "outputs": [],
      "source": [
        "# convert datetime to day, month, year\n",
        "\n",
        "def convert_datetime_to_day_month_year(df):\n",
        "    \n",
        "    date_col = df.index\n",
        "    \n",
        "    df['day'] = date_col.day\n",
        "    df['month'] = date_col.month\n",
        "    df['year'] = date_col.year\n",
        "    \n",
        "    return df\n",
        "    "
      ]
    },
    {
      "cell_type": "code",
      "execution_count": 7,
      "id": "ae286976-2fbd-4271-a339-43ff003fe7d0",
      "metadata": {
        "id": "ae286976-2fbd-4271-a339-43ff003fe7d0"
      },
      "outputs": [],
      "source": [
        "# get day of week\n",
        "\n",
        "def day_of_week(df):\n",
        "    \n",
        "    date_col = df.index\n",
        "    \n",
        "    df['day_of_week'] = date_col.weekday\n",
        "    return df"
      ]
    },
    {
      "cell_type": "code",
      "execution_count": 8,
      "id": "7a12c47e-b16a-4c51-b559-9c0abb21f668",
      "metadata": {
        "id": "7a12c47e-b16a-4c51-b559-9c0abb21f668"
      },
      "outputs": [],
      "source": [
        "# if weekend or weekday\n",
        "\n",
        "def is_weekend(df):\n",
        "    \n",
        "    date_col = df.index\n",
        "    \n",
        "    df['is_weekend'] = np.where(df['day_of_week']<5, 0, 1)\n",
        "    return df"
      ]
    },
    {
      "cell_type": "code",
      "execution_count": 9,
      "id": "77fa80c9-993b-41a8-bed9-5ac02a00bada",
      "metadata": {
        "id": "77fa80c9-993b-41a8-bed9-5ac02a00bada"
      },
      "outputs": [],
      "source": [
        "# week of year\n",
        "\n",
        "def week_of_year(df):\n",
        "    \n",
        "    date_col = df.index\n",
        "    \n",
        "    df['week_of_year'] = date_col.isocalendar().week.astype(int)\n",
        "    \n",
        "    return df"
      ]
    },
    {
      "cell_type": "code",
      "execution_count": 10,
      "id": "50e9dbec-c3c5-4cf9-a8b8-db225c2111cb",
      "metadata": {
        "tags": [],
        "id": "50e9dbec-c3c5-4cf9-a8b8-db225c2111cb"
      },
      "outputs": [],
      "source": [
        "# Add holidays\n",
        "\n",
        "def is_holiday(df):\n",
        "    \n",
        "    date_col = df.index.date\n",
        "    \n",
        "    Indian_holidays = holidays.India()\n",
        "    US_holidays = holidays.US()\n",
        "    \n",
        "    df['is_holiday'] = [1 if (i in Indian_holidays) | (i in US_holidays) else 0 for i in date_col]\n",
        "    return df\n",
        "\n"
      ]
    },
    {
      "cell_type": "code",
      "execution_count": 11,
      "id": "73de8481-7b5f-4432-88be-2e035e4e0a6c",
      "metadata": {
        "id": "73de8481-7b5f-4432-88be-2e035e4e0a6c"
      },
      "outputs": [],
      "source": [
        "# whether it is day or night\n",
        "\n",
        "def is_day(df):\n",
        "    \n",
        "    df['is_day'] = df.apply(lambda row: 1 if (row['hour']>=6 and row['hour']<=18) else 0, axis=1)\n",
        "    \n",
        "    return df\n",
        "    "
      ]
    },
    {
      "cell_type": "code",
      "execution_count": 12,
      "id": "55889818-5923-434b-93c9-89fa25f5177e",
      "metadata": {
        "id": "55889818-5923-434b-93c9-89fa25f5177e"
      },
      "outputs": [],
      "source": [
        "# seasons\n",
        "\n",
        "def which_season(df):\n",
        "    \n",
        "    df['season'] = df.month%12 // 3 + 1\n",
        "    \n",
        "    return df"
      ]
    },
    {
      "cell_type": "code",
      "execution_count": 13,
      "id": "8cd130f7-f507-4477-9946-b03e4617c26e",
      "metadata": {
        "id": "8cd130f7-f507-4477-9946-b03e4617c26e"
      },
      "outputs": [],
      "source": [
        "# convert hour to sin and cosine components\n",
        "\n",
        "def cyclic_hour(df):\n",
        "    \n",
        "    hours_in_day = 24\n",
        "    \n",
        "    df['sin_hour'] = np.sin(2.*np.pi*df['hour']/hours_in_day)\n",
        "    df['cos_hour'] = np.cos(2.*np.pi*df['hour']/hours_in_day)\n",
        "    \n",
        "    return df"
      ]
    },
    {
      "cell_type": "code",
      "execution_count": 14,
      "id": "0e42b113-bb82-4055-9d2f-bed762ab39eb",
      "metadata": {
        "id": "0e42b113-bb82-4055-9d2f-bed762ab39eb"
      },
      "outputs": [],
      "source": [
        "# convert days of week into sin and cosine component\n",
        "\n",
        "def cyclic_week(df):\n",
        "    \n",
        "    # monday = 0, sunday = 6\n",
        "    days_in_week = 6\n",
        "    \n",
        "    df['sin_week'] = np.sin(2.*np.pi*df['day_of_week']/days_in_week)\n",
        "    df['cos_week'] = np.cos(2.*np.pi*df['day_of_week']/days_in_week)\n",
        "    \n",
        "    return df"
      ]
    },
    {
      "cell_type": "code",
      "execution_count": 15,
      "id": "9860fdcd-a77f-4786-8cce-09e37fd346a4",
      "metadata": {
        "id": "9860fdcd-a77f-4786-8cce-09e37fd346a4"
      },
      "outputs": [],
      "source": [
        "# convert months into sin and cosine components\n",
        "\n",
        "def cyclic_month(df):\n",
        "    \n",
        "    months_in_year =12\n",
        "    \n",
        "    df['sin_month'] = np.sin(2.*np.pi*df['month']/months_in_year)\n",
        "    df['cos_month'] = np.cos(2.*np.pi*df['month']/months_in_year)\n",
        "    \n",
        "    return df"
      ]
    },
    {
      "cell_type": "code",
      "execution_count": 16,
      "id": "cb6ce706-5a22-4d91-8981-1c6f18d27161",
      "metadata": {
        "id": "cb6ce706-5a22-4d91-8981-1c6f18d27161"
      },
      "outputs": [],
      "source": [
        "# Add new features\n",
        "\n",
        "def add_features(df):\n",
        "    \n",
        "    # add day, month, year\n",
        "    df = convert_datetime_to_day_month_year(df)\n",
        "    \n",
        "    # day of week\n",
        "    df = day_of_week(df)\n",
        "    \n",
        "    # is weekend\n",
        "    df = is_weekend(df)\n",
        "    \n",
        "    # week of year\n",
        "    df = week_of_year(df)\n",
        "    \n",
        "    # add holidays\n",
        "    df = is_holiday(df)\n",
        "    \n",
        "    # is day\n",
        "    df = is_day(df)\n",
        "    \n",
        "    # which season\n",
        "    df = which_season(df)\n",
        "    \n",
        "    # cyclic features\n",
        "    df = cyclic_hour(df)\n",
        "    df = cyclic_month(df)\n",
        "    df = cyclic_week(df)\n",
        "    \n",
        "    return df"
      ]
    },
    {
      "cell_type": "code",
      "execution_count": 17,
      "id": "ae2989b6-8498-4040-a2da-b8dfa1760bb2",
      "metadata": {
        "id": "ae2989b6-8498-4040-a2da-b8dfa1760bb2"
      },
      "outputs": [],
      "source": [
        "train_with_features = add_features(train)"
      ]
    },
    {
      "cell_type": "code",
      "execution_count": 18,
      "id": "cea0ca04-22e1-4a20-b260-612d0977f96d",
      "metadata": {
        "id": "cea0ca04-22e1-4a20-b260-612d0977f96d"
      },
      "outputs": [],
      "source": [
        "test_with_features = add_features(test)"
      ]
    },
    {
      "cell_type": "markdown",
      "id": "febc6e18-bbf5-4555-b2e3-5c7728ac8690",
      "metadata": {
        "tags": [],
        "id": "febc6e18-bbf5-4555-b2e3-5c7728ac8690"
      },
      "source": [
        "# Modelling"
      ]
    },
    {
      "cell_type": "code",
      "execution_count": 19,
      "id": "7bdb3d7d-7d75-4684-bea3-4bfc45c3f665",
      "metadata": {
        "id": "7bdb3d7d-7d75-4684-bea3-4bfc45c3f665"
      },
      "outputs": [],
      "source": [
        "# prepare train and test\n",
        "\n",
        "def prepare_df(train):\n",
        "    \n",
        "    # make X_train\n",
        "    X_train = train.drop(columns=['date','demand']).copy()\n",
        "    \n",
        "    # make y_train\n",
        "    y_train = train['demand'].copy().values\n",
        "    \n",
        "    return X_train, y_train"
      ]
    },
    {
      "cell_type": "code",
      "execution_count": 43,
      "id": "f6a9a939-c70a-4ed5-bd23-d388fd23434e",
      "metadata": {
        "id": "f6a9a939-c70a-4ed5-bd23-d388fd23434e"
      },
      "outputs": [],
      "source": [
        "X_train, y_train = prepare_df(train_with_features)"
      ]
    },
    {
      "cell_type": "code",
      "execution_count": 44,
      "id": "22edad0a-1065-4f3e-b90a-ce0b67f67057",
      "metadata": {
        "id": "22edad0a-1065-4f3e-b90a-ce0b67f67057"
      },
      "outputs": [],
      "source": [
        "X_test = test_with_features.drop(columns=['date']).copy()"
      ]
    },
    {
      "cell_type": "code",
      "execution_count": 57,
      "id": "dda9dff1-e88a-464e-80f7-868b32856913",
      "metadata": {
        "id": "dda9dff1-e88a-464e-80f7-868b32856913"
      },
      "outputs": [],
      "source": [
        "def model_fit_predict(model, X_train, y_train, X_test):\n",
        "    \n",
        "    # fit model\n",
        "    model.fit(X_train, y_train)\n",
        "    \n",
        "    # predict\n",
        "    y_predict = model.predict(X_test)\n",
        "    \n",
        "    # add to test \n",
        "    X_test_copy = X_test.copy()\n",
        "    X_test_copy.loc[:,'demand'] = y_predict.astype(int)\n",
        "    \n",
        "    return X_test_copy\n",
        "    "
      ]
    },
    {
      "cell_type": "markdown",
      "source": [
        "## LightGBM"
      ],
      "metadata": {
        "id": "LhS8CUONNrCh"
      },
      "id": "LhS8CUONNrCh"
    },
    {
      "cell_type": "code",
      "source": [
        "# hyperparameter tuned using optuna\n",
        "\n",
        "params = {'bagging_fraction': 0.5,\n",
        " 'bagging_freq': 1,\n",
        " 'feature_fraction': 0.6,\n",
        " 'lambda_l1': 5,\n",
        " 'lambda_l2': 20,\n",
        " 'learning_rate': 0.095,\n",
        " 'max_depth': 8,\n",
        " 'min_child_weight': 28.3,\n",
        " 'min_data_in_leaf': 100,\n",
        " 'n_estimators': 1000,\n",
        " 'num_leaves': 2180,\n",
        " 'subsample': 0.77}\n",
        "\n",
        "model_lgbm = LGBMRegressor(**params)\n",
        "  "
      ],
      "metadata": {
        "id": "PzGcVHriNqXl"
      },
      "id": "PzGcVHriNqXl",
      "execution_count": 58,
      "outputs": []
    },
    {
      "cell_type": "code",
      "source": [
        "X_test_with_prediction_lgbm = model_fit_predict(model_lgbm, X_train, y_train, X_test)"
      ],
      "metadata": {
        "id": "ED-fCK3tNv5D"
      },
      "id": "ED-fCK3tNv5D",
      "execution_count": 59,
      "outputs": []
    },
    {
      "cell_type": "markdown",
      "id": "d4d1614f-dada-4e86-97dc-d6f95d92b3d5",
      "metadata": {
        "id": "d4d1614f-dada-4e86-97dc-d6f95d92b3d5"
      },
      "source": [
        "## XGB"
      ]
    },
    {
      "cell_type": "code",
      "execution_count": null,
      "id": "7cc99b1e-ed65-458f-bc23-85130a11b44b",
      "metadata": {
        "id": "7cc99b1e-ed65-458f-bc23-85130a11b44b"
      },
      "outputs": [],
      "source": [
        "# hyperparameter tuned using optuna\n",
        "params = {'max_depth' : 6,\n",
        "          'learning_rate' : 0.093,\n",
        "          'min_child_weight' : 92.68,\n",
        "          'subsample' : 0.7,\n",
        "          'n_estimators' : 10000}\n",
        "        \n",
        "model_xgb = XGBRegressor(objective='reg:squarederror', early_stopping_rounds =100, **params)"
      ]
    },
    {
      "cell_type": "code",
      "execution_count": null,
      "id": "3d684e9a-7241-4408-a768-7d407819bd25",
      "metadata": {
        "id": "3d684e9a-7241-4408-a768-7d407819bd25"
      },
      "outputs": [],
      "source": [
        "X_test_with_prediction_xgb = model_fit_predict(model_xgb, X_train, y_train, X_test)"
      ]
    },
    {
      "cell_type": "markdown",
      "id": "bc434cad-a4c0-4029-9a2a-355353bfb4da",
      "metadata": {
        "id": "bc434cad-a4c0-4029-9a2a-355353bfb4da"
      },
      "source": [
        "## Linear Regression"
      ]
    },
    {
      "cell_type": "code",
      "execution_count": null,
      "id": "1e88b358-b0fd-4a5a-84c4-06b62cf8778c",
      "metadata": {
        "id": "1e88b358-b0fd-4a5a-84c4-06b62cf8778c"
      },
      "outputs": [],
      "source": [
        "model_linear = LinearRegression()"
      ]
    },
    {
      "cell_type": "code",
      "execution_count": null,
      "id": "394c406f-99e8-41b8-a88d-fa3a7a9be2ff",
      "metadata": {
        "id": "394c406f-99e8-41b8-a88d-fa3a7a9be2ff"
      },
      "outputs": [],
      "source": [
        "X_test_with_prediction_linear = model_fit_predict(model_linear, X_train, y_train, X_test)"
      ]
    },
    {
      "cell_type": "markdown",
      "id": "5882ecbc-7860-49df-96f9-09f0755d559e",
      "metadata": {
        "id": "5882ecbc-7860-49df-96f9-09f0755d559e"
      },
      "source": [
        "## Random Forest"
      ]
    },
    {
      "cell_type": "code",
      "execution_count": null,
      "id": "0021cf6a-97a6-4787-9048-09381d5383aa",
      "metadata": {
        "id": "0021cf6a-97a6-4787-9048-09381d5383aa"
      },
      "outputs": [],
      "source": [
        "model_RF = RandomForestRegressor(n_estimators=700, max_depth=6, min_samples_split=10, min_samples_leaf=5)"
      ]
    },
    {
      "cell_type": "code",
      "execution_count": null,
      "id": "6e042e19-6e98-4a14-96c4-5ff0a29fe876",
      "metadata": {
        "id": "6e042e19-6e98-4a14-96c4-5ff0a29fe876"
      },
      "outputs": [],
      "source": [
        "X_test_with_prediction_RF =  model_fit_predict(model_RF,X_train, y_train, X_test)"
      ]
    },
    {
      "cell_type": "markdown",
      "id": "320b3dfd-a4ac-4e06-8c9f-d755e7c36c06",
      "metadata": {
        "id": "320b3dfd-a4ac-4e06-8c9f-d755e7c36c06"
      },
      "source": [
        "# Submission"
      ]
    },
    {
      "cell_type": "code",
      "execution_count": null,
      "id": "d0939bd3-79aa-4326-9964-77b819501277",
      "metadata": {
        "id": "d0939bd3-79aa-4326-9964-77b819501277"
      },
      "outputs": [],
      "source": [
        "# set datetime as index\n",
        "\n",
        "sample.set_index(pd.to_datetime(sample.date) +\\\n",
        "                            pd.to_timedelta(sample.hour, unit='h'), inplace=True)"
      ]
    },
    {
      "cell_type": "code",
      "execution_count": 63,
      "id": "000013c7-9114-4e00-a002-3ea3ab4aab9d",
      "metadata": {
        "id": "000013c7-9114-4e00-a002-3ea3ab4aab9d"
      },
      "outputs": [],
      "source": [
        "# merge sample and prediction\n",
        "\n",
        "# lightgbm\n",
        "submission_lgbm = sample[['date','hour']].merge(X_test_with_prediction_lgbm[['demand']], \\\n",
        "                                               right_index=True, left_index=True, how='inner')\n",
        "\n",
        "# # xgb\n",
        "# submission_xgb = sample[['date','hour']].merge(X_test_with_prediction_xgb[['demand']], \\\n",
        "#                                                right_index=True, left_index=True, how='inner')\n",
        "\n",
        "# # linear\n",
        "# submission_linear = sample[['date','hour']].merge(X_test_with_prediction_linear[['demand']], \\\n",
        "#                                                right_index=True, left_index=True, how='inner')\n",
        "\n",
        "# # RF\n",
        "# submission_RF = sample[['date','hour']].merge(X_test_with_prediction_RF[['demand']], \\\n",
        "#                                                   right_index=True, left_index=True, how='inner')"
      ]
    },
    {
      "cell_type": "code",
      "execution_count": 64,
      "id": "34ce7952-896d-4749-a76f-a2a68514ea00",
      "metadata": {
        "id": "34ce7952-896d-4749-a76f-a2a68514ea00"
      },
      "outputs": [],
      "source": [
        "# save to csv\n",
        "\n",
        "submission_lgbm.to_csv('./fine_tuned_lgbm.csv', index=None)"
      ]
    },
    {
      "cell_type": "code",
      "execution_count": null,
      "id": "32ff8906-0a48-403d-a393-c233f96b7c0b",
      "metadata": {
        "id": "32ff8906-0a48-403d-a393-c233f96b7c0b"
      },
      "outputs": [],
      "source": [
        ""
      ]
    }
  ],
  "metadata": {
    "kernelspec": {
      "display_name": "Python 3",
      "language": "python",
      "name": "python3"
    },
    "language_info": {
      "codemirror_mode": {
        "name": "ipython",
        "version": 3
      },
      "file_extension": ".py",
      "mimetype": "text/x-python",
      "name": "python",
      "nbconvert_exporter": "python",
      "pygments_lexer": "ipython3",
      "version": "3.7.10"
    },
    "colab": {
      "name": "final_2.ipynb",
      "provenance": [],
      "collapsed_sections": [
        "bc434cad-a4c0-4029-9a2a-355353bfb4da",
        "5882ecbc-7860-49df-96f9-09f0755d559e"
      ]
    }
  },
  "nbformat": 4,
  "nbformat_minor": 5
}